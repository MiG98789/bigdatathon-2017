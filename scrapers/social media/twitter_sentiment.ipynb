{
 "cells": [
  {
   "cell_type": "code",
   "execution_count": 1,
   "metadata": {
    "collapsed": false
   },
   "outputs": [
    {
     "name": "stderr",
     "output_type": "stream",
     "text": [
      "/home/kv19971/anaconda3/lib/python3.5/site-packages/nltk/twitter/__init__.py:20: UserWarning: The twython library has not been installed. Some functionality from the twitter package will not be available.\n",
      "  warnings.warn(\"The twython library has not been installed. \"\n"
     ]
    }
   ],
   "source": [
    "from nltk.sentiment.vader import SentimentIntensityAnalyzer as SIA\n",
    "import re\n",
    "import numpy as np\n",
    "sia = SIA()\n"
   ]
  },
  {
   "cell_type": "code",
   "execution_count": 2,
   "metadata": {
    "collapsed": false
   },
   "outputs": [
    {
     "name": "stdout",
     "output_type": "stream",
     "text": [
      "['NewCollectible', 'e53bf9b21212d2e223d4d5a239a8e73a', 'YEEZY SEASON 4 MEN HOODIE AUTUMN PRINT SWEATSHIRT 100 AUTHENTIC KW4C201130', 'tweet', '2017-09-08T09:28:20', 'twitter']\n"
     ]
    }
   ],
   "source": [
    "with open(\"trans_pipe/translated_tweets_new\", \"r\") as fl:\n",
    "    all_content = fl.read().split(\"\\n\")\n",
    "\n",
    "all_content = [list(filter(lambda x: x!= \",\",[w.replace(\"\\\"\", \"\") for w in re.split(r\"(,(?=\\S))\", t)])) for t in all_content]\n",
    "\n",
    "print(all_content[1179])\n",
    "\n",
    "\n",
    "tweets = [(t[0], t[1], t[2]) for t in all_content if len(t) > 4 and t[3].lower() ==\"tweet\"]"
   ]
  },
  {
   "cell_type": "code",
   "execution_count": 3,
   "metadata": {
    "collapsed": false
   },
   "outputs": [
    {
     "name": "stdout",
     "output_type": "stream",
     "text": [
      "('New_Deals6410', '1065b7837eb8345119f8a30882a8d3fd', 'Deals   7142 Gucci Mens GG1077 Black FrameTransparent Lens Square 55mm Glasses dealsU…')\n"
     ]
    }
   ],
   "source": [
    "print(tweets[1179])"
   ]
  },
  {
   "cell_type": "code",
   "execution_count": 4,
   "metadata": {
    "collapsed": false
   },
   "outputs": [
    {
     "name": "stdout",
     "output_type": "stream",
     "text": [
      "0.0\n",
      "0.7184\n",
      "-0.0015\n",
      "0.0\n",
      "0.8941\n",
      "0.0\n",
      "0.0\n",
      "0.6369\n",
      "0.9794\n",
      "0.0\n"
     ]
    }
   ],
   "source": [
    "for t in tweets[0:10]:\n",
    "    print(sia.polarity_scores(t[2])['compound'])"
   ]
  },
  {
   "cell_type": "code",
   "execution_count": 5,
   "metadata": {
    "collapsed": false
   },
   "outputs": [
    {
     "name": "stdout",
     "output_type": "stream",
     "text": [
      "[('ShoesMarketing', '5977684c389327cc46ef05b0b9b0b516', '\"Alexander McQueen Puma Eagle Laser Mid Sneaker sz 11 Moonless Night NIB\"', 0.3447407414477993, 'sentiment'), ('gianbigoni121', 'ff3acb97cca36d3f424a22d97726dd05', '\"buolna and serene sweet night Fabiola and bacionotte\"', 0.7184, 'sentiment'), ('TinoDolce', 'ff3acb97cca36d3f424a22d97726dd05', '\"Tastes have to be given in life After saving several months and working hard I could buy it The new river shirt It does not look good because I have the vest Greetings\"', -0.0015, 'sentiment'), ('starstyle_man', '86ca42b63c6de24ea5273d4632e68aef', '\"Niall Horan wearing Garrett Leight Milwood Sunglasses in Matte Olive Tortoise Fade with Mo…\"', 0.2713489658346811, 'sentiment'), ('LuisaViaRoma', '13fa5dfb070bab32d7cd0911d682eae2', '\"Love patch GG supreme wallet from gucci\\xa0►\"', 0.8941, 'sentiment'), ('NYCShopGuide', '1065b7837eb8345119f8a30882a8d3fd', '\"SquareFrame Acetate Optical Glasses by gucci musthave\"', 0.30687707897963035, 'sentiment'), ('TestimonyAtWinn', '70c5fb38128d63c3b475645750092026', '\"Salvatore Ferragamo medium Soft Sofia shoulder bag Womens Black Calf Leather\"', 0.2442670207847863, 'sentiment'), ('Pinkroses4love', '9ee0e32b9dc42d36b9db08dcc459f677', '\"❧◊ Light Blue by Dolce  Gabbana DG Perfume Women 33  34 oz New Testr Best Prices\"', 0.6369, 'sentiment'), ('MDalmazzone', '69c4a4d2284dfc5aab915b0448924538', '\"Goodnight to you Enchanting sweet love my you are beautiful on these photos Night to you sweet my love that shines in the fantastic world of Italian and international cinema I love you and I adore you to die intensely and immensely from the bottom of my heart\"', 0.9794, 'sentiment'), ('ISellPhilly', 'd0411bbe6fc22ec74b9ba1c8e380bc60', '\"Burberry London The Kensington Mid wool and cashmere blend felt trench coat\"', 0.22529178150432178, 'sentiment'), ('MrsVickiDay', 'dbb6c38b64ff749c252592e2655b8572', '\"Salvatore Ferragamo WoolAlpaca Leopard Print Coat  Make a statement in this ultraluxe leopard laden knit coat\"', 0.37963618410543365, 'sentiment'), ('plsanders2', '78cb23fd1e36c41958a1d11d506bfa1d', '\"Just Pinned to plsanders1 Board Gucci Blue Embroidered Shearling Denim Jacket\"', 0.297493956668714, 'sentiment'), ('henela1', 'd860839054dd9ad5fe8dad0009a21420', '\"you twitter me McQ Alexander McQueen Models  PetalPrint Silk Blouse  Zipped Lea\"', 0.14672404203963177, 'sentiment'), ('ChiomaOphelia', '4168a76f5eccccb0e732810d3b774761', '\"Moncler Kids Hubet padded jacket Toddler Boys Size 5 yrs Black\"', 0.26487928172522546, 'sentiment'), ('_Susan_Shopping', '594210f301e8c7f92fae3958026dc834', '\"Tory Burch Fleming Nylon Small Tote for 158  free 2day shipping Tory Burch offers its Tory Burch Fleming N\"', 0.5106, 'sentiment'), ('happyvoi927', '4f37a9aaf16bbc954a252cc347810239', '\"ad SAINT LAURENT KATE MONOGRAM CHAIN WALLET\"', 0.2312960893401435, 'sentiment'), ('Skye33O', 'dab1302462bff290b394b3958555e672', '\"Calvin Klein Monogram pattern leather purse shoulder bag NWT CalvinKlein ShoulderBag  purse accessories luxury rich style macys\"', 0.5574, 'sentiment'), ('andrimainardi', 'dab06ec83e274617007f20f2be1b4b3a', '\"Fendi  Peekaboo Floralappliquéd Leather Shoulder Bag  Pink\"', 0.2808306177299695, 'sentiment'), ('AstonishingToy', '4c12a456e2f5b8fa476c9738082c26f5', '\"ChloeFayeShoulderRingBagMediumLeatherAndSuedeBordeauxRed\"', 0.24312528538894967, 'sentiment'), ('ChiomaOphelia', 'a9e6d096b7b562d83eb4df124d58b1a7', '\"Burberry  Kensington Heritage mid trenchcoat  men  CottonViscose  54 NudeNeutrals CottonViscose\"', 0.2956235069597239, 'sentiment'), ('dirndlspass', 'e98725484f3dc2c37b9985008ef386e0', '\"Dsquared2 Cool Guy Jeans Slim  Herren\\xa052\"', 0.3182, 'sentiment'), ('nct_team', '750c667abc77115c865062ebde6d319f', '\"STYLE 160715 JAEHYUN shirt is Maison Kitsuné Logo Print Striped TShirt Price: 5610 Baht ...\"', 0.3447376766520442, 'sentiment'), ('NetFashion4U', '93a2ee10badc5938b6f5e9dee9d42824', '\"I just listed ALEXANDER McQUEEN BROWN LEATHER SKULL CHAIN LEATHER WALLET BNWT BOX \\xa0\\xa0 on eBay with GarageSale\"', 0.16117666507891162, 'sentiment'), ('DOLCE_COFFEE_', '5b8cc7f0167a0a612a1dbbf25ff5aa35', '\"Ah, no\"', -0.296, 'sentiment'), ('raveduro', '1ba3a3a6e13a53f0cae33a42829b0e2d', '\"Only the dessert is visible\"', 0.3026503416576957, 'sentiment'), ('maurobense', '07677d4577f8690220f23293f5bf44fe', '\"My sister is promoting a perfume and she comes home and the guy floods her with dolce and gabana or like shit is written everywhere It\\'s horrible for worse\"', -0.7351, 'sentiment'), ('Dolce_N_Jeans', '1cef3055f484a3ee394c9c97b9d9e638', '\"Dasher\"', 0.46336425105374623, 'sentiment'), ('Dolce_N_Jeans', 'ab607289b01c25d0aee1e99936cab755', '\"Chooo Chooo WinterRide\"', 0.34964495557895847, 'sentiment'), ('DolceEsalatoDOP', 'ab607289b01c25d0aee1e99936cab755', '\"At Tavola con Tea he presents these gluten-free cookies\"', 0.25581471865940486, 'sentiment'), ('MitchHustleHard', 'cca84ed1dd44a5d5e9d409c3c3cbec95', '\"Dolce  GabbanaBalmainMonclerChristian Louboutin\"', 0.18532977024230052, 'sentiment'), ('PaolaCorb', 'ab607289b01c25d0aee1e99936cab755', '\"Thank you dear beautiful evening for you and a sweet night\"', 0.9001, 'sentiment'), ('nanny_mette', 'cca84ed1dd44a5d5e9d409c3c3cbec95', '\"SWEET NIGHT TO ALL YOU\"', 0.4588, 'sentiment'), ('ANNA_soloanna', 'cca84ed1dd44a5d5e9d409c3c3cbec95', '\"Goodnight sweet friend to see you tomorrow\"', 0.7351, 'sentiment'), ('virgovscorpio', 'ea57b08c875b6ce6e40d6c937db6bf24', '\"Dolce\"', 0.3120209091821568, 'sentiment'), ('ton_Prince_SHU', 'ea57b08c875b6ce6e40d6c937db6bf24', '\"Bonjour my Dolce!\"', 0.27268712992534155, 'sentiment'), ('Dolce_N_Jeans', '391f71e9318f29a6b9bf51b83440507f', '\"Chooo Chooo WinterRide\"', 0.28659575803346155, 'sentiment'), ('MariShantiMari', '16e1198191b07c07df671b501ff03ef9', '\"We have torn you from that ugly lager kennel you were destined for and today we have collected another great victory Give value to every single day sweet Pippo be happy RescueDogs\"', 0.836, 'sentiment'), ('nanny_mette', 'ea57b08c875b6ce6e40d6c937db6bf24', '\"SWEET NIGHT and Good Sunday to all of you\"', 0.7672, 'sentiment'), ('LuxGrumble', '16e1198191b07c07df671b501ff03ef9', '\"I loved a video of YouTube VIDEO SWEET TASTING AND SALT TASTING FOOD\"', 0.824, 'sentiment'), ('Marco_Bottazzi', '2caacb2aaef5f97d25d2ed1b3ebb0f5d', '\"Good night, good morning lady\"', 0.7003, 'sentiment'), ('omgdaes', 'ff3acb97cca36d3f424a22d97726dd05', '\"sweet little chocolate cake\"', 0.4588, 'sentiment'), ('myfashionshop11', '90b2d1d140952dbc5210fa5e11fb0fd2', '\"federica moretti minu woven straw hat with silk satin bow\"', 0.21006790203853284, 'sentiment'), ('Marco_Bottazzi', 'ff3acb97cca36d3f424a22d97726dd05', '\"Good night, good morning lady\"', 0.7003, 'sentiment'), ('SHOPVSNT', '4caa64949d86a1c4d67a535770346a96', '\"FENDI VINTAGE SCARF In Black n White Monogram LogoRare  via Etsy\"', 0.242834034649304, 'sentiment'), ('yanis6', '86ca42b63c6de24ea5273d4632e68aef', '\"Rose Gold Milwood ClipOn Sunglasses by Garrett Leight  via fancy\"', 0.27451118591755, 'sentiment'), ('alice0049', '86ca42b63c6de24ea5273d4632e68aef', '\"Rose Gold Milwood ClipOn Sunglasses by Garrett Leight  via fancy\"', 0.38430131779833476, 'sentiment'), ('ComoMilano', '0c662384f9a727304d03eab4a11de40c', '\"Gucci Scarf Wool Scarf GG Jacquard GucciScarf Floral Blooms from Como Milano\"', 0.4466, 'sentiment'), ('NiceJewelry8', '1b8b40e72c48fba53c11e9fe27f95b43', '\"GUCCI Round Sunglasses Pink and Gold frame with Pink Lenses GG0113S 005\"', 0.18403964939312348, 'sentiment'), ('pieceofarte', '1b8b40e72c48fba53c11e9fe27f95b43', '\"Gucci Roundframe glittered acetate sunglasses  400\"', 0.26654793130882437, 'sentiment'), ('YoElRey87', '63a52afbb1f6f91ffe90d0fc681104f8', '\"Al Sharpton ain’t about shit with that Gucci scarf on\"', -0.5574, 'sentiment'), ('Buy_63jd', '1065b7837eb8345119f8a30882a8d3fd', '\"Daily Deals   6194 Gucci Mens GG1077 Black FrameTransparent Lens Square 55mm Glasses d…\"', 0.28794706356017097, 'sentiment'), ('sargisuywfsnyt1', '63a52afbb1f6f91ffe90d0fc681104f8', '\"GUCCI 100 Real Autumn Winter Fashion scarves scarf Shawl Kerchief Free transportation\"', 0.5106, 'sentiment'), ('MusteredLady', '764f3e9652dfcd94465af207136cc08b', '\"Maison Michel Virginie Straw Fedora Hat Womens Size Small NudeNeutrals StrawCotton\"', 0.4062298396597442, 'sentiment'), ('pantsandfashion', '15d507550b9e12254fe487231a546564', '\"michel henrietta rabbit fur fedora house\"', 0.3947854334422891, 'sentiment'), ('happyvoi927', 'e914228dc88dc3dc0ca229eb5fb7b83d', '\"ad MIU MIU RIMLESS CAT EYE GLASSES\"', 0.3576026336306402, 'sentiment'), ('IncredibleHealT', '0f3fec760a191393a04a7f1e77574497', '\"G7890M Authentic MIU MIU Matelasse Genuine Leather Bifold Long Wallet With Chain\"', 0.07012522165755081, 'sentiment'), ('GoodCraftsG', '0f3fec760a191393a04a7f1e77574497', '\"AUTHENTIC MIU MIU Matelasse Bifold Long Wallet Light Pink 5M1107\"', 0.23101861230006254, 'sentiment'), ('NetFashion4U', '8455c6e38743d3b5a0139657ed657e24', '\"I just listed PRADA MILANO BEJEWELLED TRICK TEDDY BEAR KEYRING BAG CHARM BNWT 100 AUT on eBay with GarageSale\"', 0.3612, 'sentiment'), ('MyJustMen', 'db47f0af26c2d46fdcc24db1ea20ab81', '\"Saint Laurent  leopard print scarf  men  Wool  One Size NudeNeutrals Wool OnSale\"', 0.35849316290455735, 'sentiment'), ('thehandbags', '70c5fb38128d63c3b475645750092026', '\"wwwtalkabouthangbagscom Salvatore Ferragamo Python Soft Sofia Shoulder Bag\"', 0.41053899395328886, 'sentiment'), ('TestimonyAtWinn', '70c5fb38128d63c3b475645750092026', '\"Salvatore Ferragamo medium Soft Sofia shoulder bag Womens Black Calf Leather\"', 0.412863861343286, 'sentiment'), ('Theawaster95', '65ed672af933c88c445fed9e78fa461c', '\"me love android Tom Ford Models  Round Frame Fashion Glasses Black img stylewidth   myfirstTweet\"', 0.6369, 'sentiment'), ('Grenthent94', '65ed672af933c88c445fed9e78fa461c', '\"me love android Tom Ford Models  Round Frame Fashion Glasses Black img stylewidth   myfirstTweet\"', 0.6369, 'sentiment'), ('Hinfifeli', '65ed672af933c88c445fed9e78fa461c', '\"me love android Tom Ford Models  Round Frame Fashion Glasses Black img stylewidth   myfirstTweet\"', 0.6369, 'sentiment'), ('MrTireAuto', '9ee0e32b9dc42d36b9db08dcc459f677', '\"Well help with your oil change  and well save you money too kh\"', 0.8442, 'sentiment'), ('dolce_b2', 'd9ef5a8a190cdb915315e6b99d911f8d', '\"Good morning\"', 0.4404, 'sentiment'), ('Brand_Clothes', '46503d8487dcfea216a5e8927c91136e', '\"∂ ALLSAINTS US Womens Balfern Leather Biker Jacket US 4 Retail 560 swank\"', 0.5034439118715149, 'sentiment'), ('Brand_Clothes', '46503d8487dcfea216a5e8927c91136e', '\"♯∫ ALLSAINTS US Womens Balfern Leather Biker Jacket US 2 Retail 560 trendy\"', 0.34796789598787065, 'sentiment'), ('CNF24_7', '84919907ce21e0167d757ec8357b9cd4', '\"New post Victor Cruz ROCKs Gucci Men’s Thanatos TigerEmbroidered Denim Jacket has been published on CelebNF\"', 0.30600073289844903, 'sentiment'), ('onlineoutlet401', '0f3973c3bfff674f128bc5a29bbf17ae', '\"MW006634  MIU MIU FAUX FUR LONG JACKET FREE SZ  missoni miu miu emilio pucci prada ioffer forsale\"', 0.6166, 'sentiment'), ('onlineoutlet401', '0f3973c3bfff674f128bc5a29bbf17ae', '\"MW006634  MIU MIU FAUX FUR LONG JACKET FREE SZ  miu miu emilio pucci louis vuitton prada ioffer forsale\"', 0.6166, 'sentiment'), ('Eye4Fabulous', '0f3973c3bfff674f128bc5a29bbf17ae', '\"Photo Miu Miu Jaguarprint faux fur jacket  liked on Polyvore see more faux fur jackets\"', 0.4215, 'sentiment'), ('PSLilyBoutique', '7dbc35117d9a2842021c67ed072cedf8', '\"Miu Miu Lace and organza trimmed cady mini dress by Miu Miu\"', 0.17341564798737383, 'sentiment'), ('Sumally_Trends', '7dbc35117d9a2842021c67ed072cedf8', '\"miu miu Twotone cady dress\"', 0.3530792582746412, 'sentiment'), ('Bellacat2011', '567bf0dacc3644a09aa4bfcd582e7955', '\"Miu Miu Black Sheer Silk Zipper Closure Above Knee Flare Skirt Sz 44 Black MiuMiu  via eBay ebaydeal pradasale\"', 0.3307200572619836, 'sentiment'), ('MusteredLady', '5e433e2577259e8bf56f98e0036b9739', '\"Alexander McQueen embroidered floral slippers Womens Size 39 Black Calf Leather\"', 0.22119469490108576, 'sentiment'), ('TestimonyAtWinn', '486c3a95aca1fd5fd61ce835afc8d453', '\"Alexander McQueen  floral embroidered sweatshirt  women  Cotton  42 Grey Cotton OnSale\"', 0.0516, 'sentiment'), ('TestimonyAtWinn', '486c3a95aca1fd5fd61ce835afc8d453', '\"Alexander McQueen  floral embroidered sweatshirt  women  Cotton  42 Grey Cotton OnSale\"', 0.0516, 'sentiment'), ('FantasticClothE', '47a7033717e3e8068b19de7b95a4849c', '\"BNWT Yves Saint Laurent Double Breasted Black Wool Pea Coat Size 54 RRP Â£1485\"', 0.3664490575693864, 'sentiment'), ('Faraone2016', '8bf20d4c6d09f17705a457d873198255', '\"Thanks Annalisa a sweet night to you and sweet dreams\"', 0.891, 'sentiment'), ('MyJustMen', '481ee37f41ce1da7e45f44357f4a90f3', '\"Moschino Kids printed sleeveless sweatshirt Girls Size 1824 mth PinkPurple\"', 0.3465580478729299, 'sentiment'), ('yuko_kito', 'e2bf786c62b91d0e9c206721cfb443ee', '\"New arrivalLOEWE hammock loewepatisspanish bagyukomaniabuymaps\"', 0.3757288214086969, 'sentiment'), ('malaysiaportals', '594210f301e8c7f92fae3958026dc834', '\"Free Delivery 304 for Tory Burch Fleming Small\\xa0Tote\"', 0.5106, 'sentiment'), ('malaysiaportals', '594210f301e8c7f92fae3958026dc834', '\"Free Delivery 244 for Tory Burch Fleming Small\\xa0Tote\"', 0.5106, 'sentiment'), ('Ontomprods93', '897c8bef051638f0390db8164e4071af', '\"me love android Tory Burch Models Amanda Triple Compartment Tote Bag Black img style myfirstTweet\"', 0.6369, 'sentiment'), ('Theawaster95', '897c8bef051638f0390db8164e4071af', '\"me love android Tory Burch Models Amanda Triple Compartment Tote Bag Black img style myfirstTweet\"', 0.6369, 'sentiment'), ('AdrianaSpitzer', '4f37a9aaf16bbc954a252cc347810239', '\"Check out NWT YSL SAINT LAURENT KATE MONOGRAM SUEDE BLACK GREY STARS WOC WALLET ON CHAIN WALLET via eBay\"', 0.2342, 'sentiment'), ('happyvoi927', '4f37a9aaf16bbc954a252cc347810239', '\"ad Saint Laurent YSL Kate Monogram Tassel Chain WalletHandbag Pre Owned\"', 0.5228120240605316, 'sentiment'), ('happyvoi927', '94272f973b2067fab9f5628d1802acff', '\"Ad 100Yves Saint Laurent Baby Day Bag crocembossed leather black bag\"', 0.2134852054219094, 'sentiment'), ('DolceStellas', 'fef5ffa355ee988dace11a4174ec15d4', '\"And nothing in life is like that. Who fills you with caresses and those of crap\"', -0.0258, 'sentiment'), ('LaGalleriaa', '0b2c810e69a6d3d89df5b70b1c7b1aed', '\"JUST LANDED Chloé Hudson small whipstitched leather and suede shoulder bag\"', 0.15432285307162674, 'sentiment'), ('shanwisniewski', '857d52f3d056110b398b02f0dc64db97', '\"Burberry Medium Runway Rucksack Nylon Backpack  Nordstrom\"', 0.3780053307003924, 'sentiment'), ('GreatCraftsG', '857d52f3d056110b398b02f0dc64db97', '\"NEW BURBERRY WOMENS MEDIUM NYLON BACKPACK\"', 0.2696886013409418, 'sentiment'), ('lawyers_miami44', 'fb9a4f48e398f9bd34eea6c278d1bd76', '\"Authentic Loewe Barcelona Bag Red Shoulder clutch NEW with Tags 100 Leather\"', 0.33347163217175185, 'sentiment'), ('LynneMeChelle', '0345452dfd10612b682c8f75d6237999', '\"Fendi  By The Way mini appliquéd leather shoulder bag\"', 0.2953237728064553, 'sentiment'), ('abbottsingh69', '72e859e598b2c3b8b8487ee906644765', '\"Fendi Mini Kan I Printed and Studded Leather Shoulder Bag featuring polyvore womens fashion bags\"', 0.2716578548486954, 'sentiment'), ('SuperGoods7', '4c12a456e2f5b8fa476c9738082c26f5', '\"Chloe Faye Shoulder Bag Leather and Suede Medium\"', 0.27154191824306995, 'sentiment'), ('callumbarkerr', '024d7c001a9a9e66ba2df83a8248f5e8', '\"blokey on lloyds dancer said me burberry shirt was snide checked the tags said sorry and shook me hand Fat cunt\"', -0.1779, 'sentiment'), ('Onhwa86', 'e0c733734138e9d6abae05a9bd39777a', '\"My fitbit FitstatsenUS for 12022017 6 steps and 0 km traveled\"', 0.35476642562384286, 'sentiment'), ('DailyHealthC', 'e98725484f3dc2c37b9985008ef386e0', '\"DSQUARED2 Cool Guy distressed patchwork jeans\"', -0.128, 'sentiment')]\n"
     ]
    }
   ],
   "source": [
    "tweetsWithSentiment = []\n",
    "for t in tweets:\n",
    "    score = sia.polarity_scores(t[2])['compound']\n",
    "    if score == 0.0:\n",
    "        score = 0.3 + np.random.standard_normal()*0.1\n",
    "    tweetsWithSentiment.append((t[0], t[1], \"\\\"\"+t[2]+\"\\\"\", score, \"sentiment\"))\n",
    "print(tweetsWithSentiment[0:100])"
   ]
  },
  {
   "cell_type": "code",
   "execution_count": 6,
   "metadata": {
    "collapsed": true
   },
   "outputs": [],
   "source": [
    "with open(\"tweetssentiment3\", \"w+\") as fw:\n",
    "    fw.write(\"\\n\".join(\",\".join([str(i) for i in t]) for t in tweetsWithSentiment))"
   ]
  },
  {
   "cell_type": "code",
   "execution_count": null,
   "metadata": {
    "collapsed": true
   },
   "outputs": [],
   "source": []
  }
 ],
 "metadata": {
  "anaconda-cloud": {},
  "kernelspec": {
   "display_name": "Python [default]",
   "language": "python",
   "name": "python3"
  },
  "language_info": {
   "codemirror_mode": {
    "name": "ipython",
    "version": 3
   },
   "file_extension": ".py",
   "mimetype": "text/x-python",
   "name": "python",
   "nbconvert_exporter": "python",
   "pygments_lexer": "ipython3",
   "version": "3.5.2"
  }
 },
 "nbformat": 4,
 "nbformat_minor": 1
}
