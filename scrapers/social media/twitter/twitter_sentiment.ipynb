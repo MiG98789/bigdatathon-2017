{
 "cells": [
  {
   "cell_type": "code",
   "execution_count": 1,
   "metadata": {
    "collapsed": true
   },
   "outputs": [
    {
     "name": "stderr",
     "output_type": "stream",
     "text": [
      "/home/kv19971/bigdatathon/bigdatathon-2017/lib/python3.6/site-packages/nltk/twitter/__init__.py:20: UserWarning: The twython library has not been installed. Some functionality from the twitter package will not be available.\n  warnings.warn(\"The twython library has not been installed. \"\n"
     ]
    }
   ],
   "source": [
    "from nltk.sentiment.vader import SentimentIntensityAnalyzer as SIA\n",
    "\n",
    "sia = SIA()\n"
   ]
  },
  {
   "cell_type": "code",
   "execution_count": 2,
   "metadata": {},
   "outputs": [],
   "source": [
    "with open(\"processed_tweets.csv\", \"r\") as fl:\n",
    "    all_content = fl.read().split(\"\\n\")\n",
    "\n",
    "all_content = [[w.replace(\"\\\"\", \"\") for w in t.split(\",\")] for t in all_content]\n",
    "\n",
    "\n",
    "\n",
    "tweets = [(t[1], t[2]) for t in all_content if len(t) > 4 and t[3].lower() ==\"tweet\"]"
   ]
  },
  {
   "cell_type": "code",
   "execution_count": 6,
   "metadata": {},
   "outputs": [
    {
     "name": "stdout",
     "output_type": "stream",
     "text": [
      "[('93a2ee10badc5938b6f5e9dee9d42824', 'Photo Skeleton bracelet\\xa0 The Alexander McQueen Wallet with Chain Fob for autumnwinter ’11 '), ('93a2ee10badc5938b6f5e9dee9d42824', 'ALEXANDER MCQUEEN MENS VERTEBRAE LEATHER WALLET WITH KEY CHAIN '), ('93a2ee10badc5938b6f5e9dee9d42824', 'Alexander McQueen Coin Key Fob Wallet with Chain in Rust  via fancy'), ('93a2ee10badc5938b6f5e9dee9d42824', 'Alexander McQueen brings back the chain wallet with original skull for men hottestaccessory menswear line4men'), ('93a2ee10badc5938b6f5e9dee9d42824', 'I just listed ALEXANDER McQUEEN BROWN LEATHER SKULL CHAIN LEATHER WALLET BNWT BOX \\xa0\\xa0 on eBay with GarageSale '), ('93a2ee10badc5938b6f5e9dee9d42824', 'Alexander McQueen Mens Vertebrae Leather Wallet with Key Chain '), ('93a2ee10badc5938b6f5e9dee9d42824', 'Alexander McQueen Flower Skull Flower Wallet with Chain in black at okini '), ('93a2ee10badc5938b6f5e9dee9d42824', 'Alexander McQueen  Blue Classic Wallet with Chain '), ('93a2ee10badc5938b6f5e9dee9d42824', 'I want this so bad    Alexander McQueen Classic Wallet with Chain '), ('93a2ee10badc5938b6f5e9dee9d42824', 'アレキサンダー・マックイーン Alexander McQueen 財布 メンズ Alexander McQueen Classic Wallet with Chain Red  ')]\n"
     ]
    }
   ],
   "source": [
    "print(tweets[0:10])"
   ]
  },
  {
   "cell_type": "code",
   "execution_count": 7,
   "metadata": {},
   "outputs": [
    {
     "name": "stdout",
     "output_type": "stream",
     "text": [
      "0.0\n0.0\n0.0\n0.3182\n0.0\n0.0\n0.0\n0.0\n-0.5413\n0.0\n"
     ]
    }
   ],
   "source": [
    "for t in tweets[0:10]:\n",
    "    print(sia.polarity_scores(t[1])['compound'])"
   ]
  },
  {
   "cell_type": "code",
   "execution_count": 11,
   "metadata": {},
   "outputs": [
    {
     "name": "stdout",
     "output_type": "stream",
     "text": [
      "462\n[('93a2ee10badc5938b6f5e9dee9d42824', 'Photo Skeleton bracelet\\xa0 The Alexander McQueen Wallet with Chain Fob for autumnwinter ’11 ', 0.0, 'sentiment'), ('93a2ee10badc5938b6f5e9dee9d42824', 'ALEXANDER MCQUEEN MENS VERTEBRAE LEATHER WALLET WITH KEY CHAIN ', 0.0, 'sentiment'), ('93a2ee10badc5938b6f5e9dee9d42824', 'Alexander McQueen Coin Key Fob Wallet with Chain in Rust  via fancy', 0.0, 'sentiment'), ('93a2ee10badc5938b6f5e9dee9d42824', 'Alexander McQueen brings back the chain wallet with original skull for men hottestaccessory menswear line4men', 0.3182, 'sentiment'), ('93a2ee10badc5938b6f5e9dee9d42824', 'I just listed ALEXANDER McQUEEN BROWN LEATHER SKULL CHAIN LEATHER WALLET BNWT BOX \\xa0\\xa0 on eBay with GarageSale ', 0.0, 'sentiment'), ('93a2ee10badc5938b6f5e9dee9d42824', 'Alexander McQueen Mens Vertebrae Leather Wallet with Key Chain ', 0.0, 'sentiment'), ('93a2ee10badc5938b6f5e9dee9d42824', 'Alexander McQueen Flower Skull Flower Wallet with Chain in black at okini ', 0.0, 'sentiment'), ('93a2ee10badc5938b6f5e9dee9d42824', 'Alexander McQueen  Blue Classic Wallet with Chain ', 0.0, 'sentiment'), ('93a2ee10badc5938b6f5e9dee9d42824', 'I want this so bad    Alexander McQueen Classic Wallet with Chain ', -0.5413, 'sentiment'), ('93a2ee10badc5938b6f5e9dee9d42824', 'アレキサンダー・マックイーン Alexander McQueen 財布 メンズ Alexander McQueen Classic Wallet with Chain Red  ', 0.0, 'sentiment'), ('93a2ee10badc5938b6f5e9dee9d42824', 'アレキサンダー マックイーン Alexander McQueen メンズ Classic Wallet with Chain ウォレット 並行輸入品  ', 0.0, 'sentiment'), ('93a2ee10badc5938b6f5e9dee9d42824', 'Alexander McQueen Silver leather wallet with chain ', 0.0, 'sentiment'), ('93a2ee10badc5938b6f5e9dee9d42824', 'Alexander mcqueen Skull Zip Wallet With Chain in Black for Men  Lyst ', 0.0, 'sentiment'), ('93a2ee10badc5938b6f5e9dee9d42824', 'Alexander mcqueen Skull Zip Wallet With Chain in Black for Men  Lyst ', 0.0, 'sentiment'), ('93a2ee10badc5938b6f5e9dee9d42824', 'Alexander mcqueen Skull Zip Wallet With Chain in Black for Men  Lyst ', 0.0, 'sentiment'), ('5977684c389327cc46ef05b0b9b0b516', 'Alexander Mcqueen with my desert eagle', 0.0, 'sentiment'), ('5977684c389327cc46ef05b0b9b0b516', 'Alexander McQueen Puma Eagle Laser Mid Sneaker sz 11 Moonless Night NIB ', 0.0, 'sentiment'), ('5977684c389327cc46ef05b0b9b0b516', 'Alexander McQueen Puma Eagle Laser Mid Sneaker sz 11 Moonless Night NIB ', 0.0, 'sentiment'), ('5977684c389327cc46ef05b0b9b0b516', '19999 Puma Blackstation Eagle Laser Mid  Alexander McQueen moonless night 3 ', 0.0, 'sentiment'), ('5977684c389327cc46ef05b0b9b0b516', '19999 Puma Blackstation Eagle Laser Mid  Alexander McQueen moonless night 3 ', 0.0, 'sentiment'), ('5977684c389327cc46ef05b0b9b0b516', 'Alexander McQueen Puma Eagle Laser Mid Sneaker sz 11 Moonless Night NIB ', 0.0, 'sentiment'), ('5977684c389327cc46ef05b0b9b0b516', 'Alexander McQueen Puma Eagle Laser Mid Sneaker sz 11 Moonless Night NIB ', 0.0, 'sentiment'), ('5977684c389327cc46ef05b0b9b0b516', 'Alexander McQueen Puma Eagle Laser Mid Sneaker sz 11 Moonless Night NIB ', 0.0, 'sentiment'), ('5977684c389327cc46ef05b0b9b0b516', 'Alexander McQueen Puma Eagle Laser Mid Sneaker sz 11 Moonless Night NIB ', 0.0, 'sentiment'), ('5977684c389327cc46ef05b0b9b0b516', 'Now up at Day of the Weird A Celebration of Eccentricity is Iamskitster from ForteanLondon talking Eagle Rock in Dorset and a sweary Alexander McQueen in Urban Legends  – 場所 The North By Northwest', -0.1779, 'sentiment'), ('6f58b9d9827cf97b693fc1c00b7aece9', 'Photo Solstice Bottega Veneta Modified Cat Eye Frame  liked on Polyvore see more cat eye glasses ', 0.4215, 'sentiment'), ('1f1800f46b6470001bd7b2eae3e6777d', 'Discover Faye Wallet On Strap and shop online on CHLOE Official Website 3P0796H2O ', 0.0, 'sentiment'), ('1f1800f46b6470001bd7b2eae3e6777d', 'NWT Chloé Faye Mini Suede and Leather Shoulder Bag Fresh Blue Wallet on a Chain ', 0.3182, 'sentiment'), ('1f1800f46b6470001bd7b2eae3e6777d', 'Chloé Grey Faye Wallet Bag  via fancy', 0.0516, 'sentiment'), ('1f1800f46b6470001bd7b2eae3e6777d', 'AUTHENTIC BRAND NEW Chloe Faye Mini Shoulder Bag Wallet On Strap Ligh sofiareyestrendy love ', 0.6369, 'sentiment'), ('1f1800f46b6470001bd7b2eae3e6777d', 'AUTHENTIC BRAND NEW Chloe Faye Mini Shoulder Bag Wallet On Strap Ligh love ', 0.6369, 'sentiment'), ('5b8cc7f0167a0a612a1dbbf25ff5aa35', 'La Dolce Vita Anita Ekberg', 0.0, 'sentiment'), ('5b8cc7f0167a0a612a1dbbf25ff5aa35', 'Carissima Maria non scusarti di nulla Che bella immagine mi hai mandato Grazie anche a te delle tue affettuose parole Ti auguro adesso una dolce notte e dei bellissimi sogni Ti abbraccio forte con grande affetto A domani     ', 0.0, 'sentiment'), ('5b8cc7f0167a0a612a1dbbf25ff5aa35', 'alexandraairene just stopping by to say I love you girlll Hope you’re having a great day', 0.891, 'sentiment'), ('5b8cc7f0167a0a612a1dbbf25ff5aa35', 'SEMの一日署長イベントみたいね？', 0.0, 'sentiment'), ('5b8cc7f0167a0a612a1dbbf25ff5aa35', 'あー、やだ', 0.0, 'sentiment'), ('5b8cc7f0167a0a612a1dbbf25ff5aa35', 'Un chavo con el que salía hace tiempo me regaló una caja de cápsulas de Chai Dolce Gusto y lo súper olvidé hasta ahorita que la encontré escombrando la cocina el cerebro humano funciona de maneras misteriosas', 0.0, 'sentiment'), ('5b8cc7f0167a0a612a1dbbf25ff5aa35', 'Auguri Dolce inetta ', 0.0, 'sentiment'), ('5b8cc7f0167a0a612a1dbbf25ff5aa35', 'One of the most iconic ways to start a holiday or other important Italian meal is with an assortment of cured meats called salumi in Italian  salumi holidays italian dolcevita mesa arizona', 0.7269, 'sentiment'), ('5b8cc7f0167a0a612a1dbbf25ff5aa35', 'Buona serata e dolce notte ', 0.0, 'sentiment'), ('5b8cc7f0167a0a612a1dbbf25ff5aa35', 'Si vede solo il dolce', 0.0, 'sentiment'), ('5b8cc7f0167a0a612a1dbbf25ff5aa35', 'Ora sono al dolce ', 0.0, 'sentiment'), ('5b8cc7f0167a0a612a1dbbf25ff5aa35', 'Grazie Maria dolce serata anche per te e una serena notte', 0.0, 'sentiment'), ('5b8cc7f0167a0a612a1dbbf25ff5aa35', 'Mi hermana esta promocionando un perfume y llega a casa y tipo la inunda de dolce and gabana o como mierda se escriba por todas partes Es horrible para peor', -0.5423, 'sentiment'), ('5b8cc7f0167a0a612a1dbbf25ff5aa35', 'かわええなぁ', 0.0, 'sentiment'), ('5b8cc7f0167a0a612a1dbbf25ff5aa35', 'Buonanotte dolce amico a domani  ', 0.0, 'sentiment'), ('5b8cc7f0167a0a612a1dbbf25ff5aa35', 'マスターの書斎の本を読み漁ってる、なう！', 0.0, 'sentiment'), ('07677d4577f8690220f23293f5bf44fe', 'あー、やだ', 0.0, 'sentiment'), ('07677d4577f8690220f23293f5bf44fe', 'Un chavo con el que salía hace tiempo me regaló una caja de cápsulas de Chai Dolce Gusto y lo súper olvidé hasta ahorita que la encontré escombrando la cocina el cerebro humano funciona de maneras misteriosas', 0.0, 'sentiment'), ('07677d4577f8690220f23293f5bf44fe', 'Auguri Dolce inetta ', 0.0, 'sentiment'), ('07677d4577f8690220f23293f5bf44fe', 'One of the most iconic ways to start a holiday or other important Italian meal is with an assortment of cured meats called salumi in Italian  salumi holidays italian dolcevita mesa arizona', 0.7269, 'sentiment'), ('07677d4577f8690220f23293f5bf44fe', 'Buona serata e dolce notte ', 0.0, 'sentiment'), ('07677d4577f8690220f23293f5bf44fe', 'Si vede solo il dolce', 0.0, 'sentiment'), ('07677d4577f8690220f23293f5bf44fe', 'Ora sono al dolce ', 0.0, 'sentiment'), ('07677d4577f8690220f23293f5bf44fe', 'Grazie Maria dolce serata anche per te e una serena notte', 0.0, 'sentiment'), ('07677d4577f8690220f23293f5bf44fe', 'Mi hermana esta promocionando un perfume y llega a casa y tipo la inunda de dolce and gabana o como mierda se escriba por todas partes Es horrible para peor', -0.5423, 'sentiment'), ('07677d4577f8690220f23293f5bf44fe', 'かわええなぁ', 0.0, 'sentiment'), ('07677d4577f8690220f23293f5bf44fe', 'Buonanotte dolce amico a domani  ', 0.0, 'sentiment'), ('07677d4577f8690220f23293f5bf44fe', 'マスターの書斎の本を読み漁ってる、なう！', 0.0, 'sentiment'), ('07677d4577f8690220f23293f5bf44fe', 'DOLCE NOTTE A TUTTI VOI ', 0.0, 'sentiment'), ('07677d4577f8690220f23293f5bf44fe', 'Grazie cara bellissima serata anche per te e una dolce notte', 0.0, 'sentiment'), ('07677d4577f8690220f23293f5bf44fe', 'Ti abbiamo strappato da quel brutto canile lager a cui eri destinati e oggi abbiamo collezionato un’altra grande vittoria Dai valore ad ogni singolo giorno dolce Pippo sii felice RescueDogs', 0.0, 'sentiment'), ('07677d4577f8690220f23293f5bf44fe', 'Chooo Chooo   WinterRide ', 0.0, 'sentiment'), ('1ba3a3a6e13a53f0cae33a42829b0e2d', 'Un chavo con el que salía hace tiempo me regaló una caja de cápsulas de Chai Dolce Gusto y lo súper olvidé hasta ahorita que la encontré escombrando la cocina el cerebro humano funciona de maneras misteriosas', 0.0, 'sentiment'), ('1ba3a3a6e13a53f0cae33a42829b0e2d', 'Auguri Dolce inetta ', 0.0, 'sentiment'), ('1ba3a3a6e13a53f0cae33a42829b0e2d', 'One of the most iconic ways to start a holiday or other important Italian meal is with an assortment of cured meats called salumi in Italian  salumi holidays italian dolcevita mesa arizona', 0.7269, 'sentiment'), ('1ba3a3a6e13a53f0cae33a42829b0e2d', 'Buona serata e dolce notte ', 0.0, 'sentiment'), ('1ba3a3a6e13a53f0cae33a42829b0e2d', 'Si vede solo il dolce', 0.0, 'sentiment'), ('1ba3a3a6e13a53f0cae33a42829b0e2d', 'Ora sono al dolce ', 0.0, 'sentiment'), ('1ba3a3a6e13a53f0cae33a42829b0e2d', 'Grazie Maria dolce serata anche per te e una serena notte', 0.0, 'sentiment'), ('1ba3a3a6e13a53f0cae33a42829b0e2d', 'Mi hermana esta promocionando un perfume y llega a casa y tipo la inunda de dolce and gabana o como mierda se escriba por todas partes Es horrible para peor', -0.5423, 'sentiment'), ('1ba3a3a6e13a53f0cae33a42829b0e2d', 'かわええなぁ', 0.0, 'sentiment'), ('1ba3a3a6e13a53f0cae33a42829b0e2d', 'Buonanotte dolce amico a domani  ', 0.0, 'sentiment'), ('1ba3a3a6e13a53f0cae33a42829b0e2d', 'マスターの書斎の本を読み漁ってる、なう！', 0.0, 'sentiment'), ('1ba3a3a6e13a53f0cae33a42829b0e2d', 'DOLCE NOTTE A TUTTI VOI ', 0.0, 'sentiment'), ('1ba3a3a6e13a53f0cae33a42829b0e2d', 'Grazie cara bellissima serata anche per te e una dolce notte', 0.0, 'sentiment'), ('1ba3a3a6e13a53f0cae33a42829b0e2d', 'Ti abbiamo strappato da quel brutto canile lager a cui eri destinati e oggi abbiamo collezionato un’altra grande vittoria Dai valore ad ogni singolo giorno dolce Pippo sii felice RescueDogs', 0.0, 'sentiment'), ('1ba3a3a6e13a53f0cae33a42829b0e2d', 'Chooo Chooo   WinterRide ', 0.0, 'sentiment'), ('1ba3a3a6e13a53f0cae33a42829b0e2d', 'Ma quanto è dolce quel micinox', 0.0, 'sentiment'), ('1cef3055f484a3ee394c9c97b9d9e638', 'Si vede solo il dolce', 0.0, 'sentiment'), ('1cef3055f484a3ee394c9c97b9d9e638', 'Ora sono al dolce ', 0.0, 'sentiment'), ('1cef3055f484a3ee394c9c97b9d9e638', 'Grazie Maria dolce serata anche per te e una serena notte', 0.0, 'sentiment'), ('1cef3055f484a3ee394c9c97b9d9e638', 'Mi hermana esta promocionando un perfume y llega a casa y tipo la inunda de dolce and gabana o como mierda se escriba por todas partes Es horrible para peor', -0.5423, 'sentiment'), ('1cef3055f484a3ee394c9c97b9d9e638', 'かわええなぁ', 0.0, 'sentiment'), ('1cef3055f484a3ee394c9c97b9d9e638', 'Buonanotte dolce amico a domani  ', 0.0, 'sentiment'), ('1cef3055f484a3ee394c9c97b9d9e638', 'マスターの書斎の本を読み漁ってる、なう！', 0.0, 'sentiment'), ('1cef3055f484a3ee394c9c97b9d9e638', 'DOLCE NOTTE A TUTTI VOI ', 0.0, 'sentiment'), ('1cef3055f484a3ee394c9c97b9d9e638', 'Grazie cara bellissima serata anche per te e una dolce notte', 0.0, 'sentiment'), ('1cef3055f484a3ee394c9c97b9d9e638', 'Ti abbiamo strappato da quel brutto canile lager a cui eri destinati e oggi abbiamo collezionato un’altra grande vittoria Dai valore ad ogni singolo giorno dolce Pippo sii felice RescueDogs', 0.0, 'sentiment'), ('1cef3055f484a3ee394c9c97b9d9e638', 'Chooo Chooo   WinterRide ', 0.0, 'sentiment'), ('1cef3055f484a3ee394c9c97b9d9e638', 'Ma quanto è dolce quel micinox', 0.0, 'sentiment'), ('1cef3055f484a3ee394c9c97b9d9e638', 'A Tavola con Tea ci propone questi biscotti gluten free ', 0.5106, 'sentiment'), ('1cef3055f484a3ee394c9c97b9d9e638', '月山：Good morning 諸君！今日もdolceな一日にしようじゃないか！', 0.0, 'sentiment'), ('1cef3055f484a3ee394c9c97b9d9e638', 'Dolce  GabbanaBalmainMonclerChristian Louboutin', 0.0, 'sentiment'), ('1cef3055f484a3ee394c9c97b9d9e638', 'Dasher ', 0.0, 'sentiment'), ('1cef3055f484a3ee394c9c97b9d9e638', 'Il mio sfrenato sabato sera è terminato Dolce e serena notte a tutti A domani', 0.0, 'sentiment'), ('ab607289b01c25d0aee1e99936cab755', 'Grazie Maria dolce serata anche per te e una serena notte', 0.0, 'sentiment'), ('ab607289b01c25d0aee1e99936cab755', 'Mi hermana esta promocionando un perfume y llega a casa y tipo la inunda de dolce and gabana o como mierda se escriba por todas partes Es horrible para peor', -0.5423, 'sentiment'), ('ab607289b01c25d0aee1e99936cab755', 'かわええなぁ', 0.0, 'sentiment'), ('ab607289b01c25d0aee1e99936cab755', 'Buonanotte dolce amico a domani  ', 0.0, 'sentiment')]\n"
     ]
    }
   ],
   "source": [
    "tweetsWithSentiment = []\n",
    "for t in tweets:\n",
    "    score = sia.polarity_scores(t[1])['compound']\n",
    "    tweetsWithSentiment.append((t[0], t[1], score, \"sentiment\"))\n",
    "print(tweetsWithSentiment[0:100])"
   ]
  },
  {
   "cell_type": "code",
   "execution_count": 12,
   "metadata": {},
   "outputs": [
    {
     "ename": "TypeError",
     "evalue": "sequence item 2: expected str instance, float found",
     "traceback": [
      "\u001b[0;31m---------------------------------------------------------------------------\u001b[0m",
      "\u001b[0;31mTypeError\u001b[0m                                 Traceback (most recent call last)",
      "\u001b[0;32m<ipython-input-12-64494be1a473>\u001b[0m in \u001b[0;36m<module>\u001b[0;34m()\u001b[0m\n\u001b[1;32m      1\u001b[0m \u001b[0;32mwith\u001b[0m \u001b[0mopen\u001b[0m\u001b[0;34m(\u001b[0m\u001b[0;34m\"tweetssentiment\"\u001b[0m\u001b[0;34m,\u001b[0m \u001b[0;34m\"w+\"\u001b[0m\u001b[0;34m)\u001b[0m \u001b[0;32mas\u001b[0m \u001b[0mfw\u001b[0m\u001b[0;34m:\u001b[0m\u001b[0;34m\u001b[0m\u001b[0m\n\u001b[0;32m----> 2\u001b[0;31m     \u001b[0mfw\u001b[0m\u001b[0;34m.\u001b[0m\u001b[0mwrite\u001b[0m\u001b[0;34m(\u001b[0m\u001b[0;34m\"\\n\"\u001b[0m\u001b[0;34m.\u001b[0m\u001b[0mjoin\u001b[0m\u001b[0;34m(\u001b[0m\u001b[0;34m\",\"\u001b[0m\u001b[0;34m.\u001b[0m\u001b[0mjoin\u001b[0m\u001b[0;34m(\u001b[0m\u001b[0mt\u001b[0m\u001b[0;34m)\u001b[0m \u001b[0;32mfor\u001b[0m \u001b[0mt\u001b[0m \u001b[0;32min\u001b[0m \u001b[0mtweetsWithSentiment\u001b[0m\u001b[0;34m)\u001b[0m\u001b[0;34m)\u001b[0m\u001b[0;34m\u001b[0m\u001b[0m\n\u001b[0m",
      "\u001b[0;32m<ipython-input-12-64494be1a473>\u001b[0m in \u001b[0;36m<genexpr>\u001b[0;34m(.0)\u001b[0m\n\u001b[1;32m      1\u001b[0m \u001b[0;32mwith\u001b[0m \u001b[0mopen\u001b[0m\u001b[0;34m(\u001b[0m\u001b[0;34m\"tweetssentiment\"\u001b[0m\u001b[0;34m,\u001b[0m \u001b[0;34m\"w+\"\u001b[0m\u001b[0;34m)\u001b[0m \u001b[0;32mas\u001b[0m \u001b[0mfw\u001b[0m\u001b[0;34m:\u001b[0m\u001b[0;34m\u001b[0m\u001b[0m\n\u001b[0;32m----> 2\u001b[0;31m     \u001b[0mfw\u001b[0m\u001b[0;34m.\u001b[0m\u001b[0mwrite\u001b[0m\u001b[0;34m(\u001b[0m\u001b[0;34m\"\\n\"\u001b[0m\u001b[0;34m.\u001b[0m\u001b[0mjoin\u001b[0m\u001b[0;34m(\u001b[0m\u001b[0;34m\",\"\u001b[0m\u001b[0;34m.\u001b[0m\u001b[0mjoin\u001b[0m\u001b[0;34m(\u001b[0m\u001b[0mt\u001b[0m\u001b[0;34m)\u001b[0m \u001b[0;32mfor\u001b[0m \u001b[0mt\u001b[0m \u001b[0;32min\u001b[0m \u001b[0mtweetsWithSentiment\u001b[0m\u001b[0;34m)\u001b[0m\u001b[0;34m)\u001b[0m\u001b[0;34m\u001b[0m\u001b[0m\n\u001b[0m",
      "\u001b[0;31mTypeError\u001b[0m: sequence item 2: expected str instance, float found"
     ],
     "output_type": "error"
    }
   ],
   "source": [
    "with open(\"tweetssentiment\", \"w+\") as fw:\n",
    "    fw.write(\"\\n\".join(\",\".join(t) for t in tweetsWithSentiment))"
   ]
  },
  {
   "cell_type": "code",
   "execution_count": null,
   "metadata": {},
   "outputs": [],
   "source": []
  }
 ],
 "metadata": {
  "kernelspec": {
   "display_name": "Python 2",
   "language": "python",
   "name": "python2"
  },
  "language_info": {
   "codemirror_mode": {
    "name": "ipython",
    "version": 2
   },
   "file_extension": ".py",
   "mimetype": "text/x-python",
   "name": "python",
   "nbconvert_exporter": "python",
   "pygments_lexer": "ipython2",
   "version": "2.7.6"
  }
 },
 "nbformat": 4,
 "nbformat_minor": 0
}
