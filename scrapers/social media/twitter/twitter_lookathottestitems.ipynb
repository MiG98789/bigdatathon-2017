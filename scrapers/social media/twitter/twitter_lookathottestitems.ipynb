{
 "cells": [
  {
   "cell_type": "code",
   "execution_count": 5,
   "metadata": {
    "collapsed": true
   },
   "outputs": [],
   "source": [
    "from operator import itemgetter\n",
    "from itertools import groupby\n",
    "import hashlib\n",
    "with open(\"processed_tweets.csv\", \"r\") as fl:\n",
    "    all_content = fl.read().split(\"\\n\")\n",
    "\n",
    "all_content = [[w.replace(\"\\\"\", \"\") for w in t.split(\",\")] for t in all_content]\n",
    "\n",
    "\n",
    "\n",
    "tweets = [(t[1], t[2]) for t in all_content if len(t) > 4 and t[3].lower() ==\"tweet\"]\n",
    "bios = [t[2] for t in all_content if len(t) > 4 and t[3].lower() == \"bio\"]"
   ]
  },
  {
   "cell_type": "code",
   "execution_count": 6,
   "metadata": {},
   "outputs": [
    {
     "name": "stdout",
     "output_type": "stream",
     "text": [
      "Total number of items mentioned in tweets:  160\n"
     ]
    }
   ],
   "source": [
    "tweetsGrouped = [(k, len([x for x,y in g])) for k,g in groupby(tweets, key=itemgetter(0))]\n",
    "tweetsGrouped.sort(key=itemgetter(1), reverse=True)\n",
    "print(\"Total number of items mentioned in tweets: \", len(tweetsGrouped))\n",
    "\n"
   ]
  },
  {
   "cell_type": "code",
   "execution_count": 25,
   "metadata": {
    "collapsed": false
   },
   "outputs": [
    {
     "name": "stdout",
     "output_type": "stream",
     "text": [
      "('ALEXANDER MCQUEEN Eagle & Leaves scarf', '5977684c389327cc46ef05b0b9b0b516')\n8dd9207dfef6f9c585aa3b40e3148aa1 Dolce & Gabbana Gold-tone\ne15ac260bca0119df0eccc5817d755dd ALBERTA FERRETTI Friday intarsia beanie\n93a2ee10badc5938b6f5e9dee9d42824 ALEXANDER MCQUEEN Wallet with chain\n5977684c389327cc46ef05b0b9b0b516 ALEXANDER MCQUEEN Eagle & Leaves scarf\nad8a2bd0894e12c5429fefd9912e6261 ANYA HINDMARCH The Stack circus multi wristlet makeup bag\n2de71118b566d50d98da59a4bbbed57a ANYA HINDMARCH The Stack coin purse\n6f58b9d9827cf97b693fc1c00b7aece9 BOTTEGA VENETA Cat eye glasses\n7cba40a3927a513c984aa99d80b56069 BURBERRY Beasts print and check scarf\n1f1800f46b6470001bd7b2eae3e6777d CHLOÉ Faye wallet\n22d80aeb4aeb2ef395a4d55f22ef9631 DITA Brixa glasses\n5b8cc7f0167a0a612a1dbbf25ff5aa35 Dolce & Gabbana Carretto painted carved wood jewelry box\n07677d4577f8690220f23293f5bf44fe Dolce & Gabbana Dauphine floral-print textured-leather cardholder\n1ba3a3a6e13a53f0cae33a42829b0e2d Dolce & Gabbana Embellished lizard-effect leather iPhone 7 Plus case\n1cef3055f484a3ee394c9c97b9d9e638 Dolce & Gabbana Embellished textured-leather iPhone 7 case\nab607289b01c25d0aee1e99936cab755 Dolce & Gabbana Floral-print silk-crepon scarf\n8dd9207dfef6f9c585aa3b40e3148aa1 Dolce & Gabbana Gold-tone\n8dd9207dfef6f9c585aa3b40e3148aa1 Dolce & Gabbana Gold-tone\n391f71e9318f29a6b9bf51b83440507f DOLCE & GABBANA hydrangea print scarf\n16e1198191b07c07df671b501ff03ef9 Dolce & Gabbana Printed silk-twill scarf\na6dcaca9cc0b2802fd5c4a567d70feeb Dolce & Gabbana Printed silk-voile scarf\n2caacb2aaef5f97d25d2ed1b3ebb0f5d Dolce & Gabbana Printed textured-leather iPhone 7 case\nff3acb97cca36d3f424a22d97726dd05 Dolce & Gabbana Textured-leather and metallic floral-print acrylic iPhone 7 case \n66ccfd31b5a8d84ee45523e6baa2456a DSQUARED2 patches baseball cap\n2b366361fe17a91b54239446bb6fd10e ETRO Delhy scarf\n90b2d1d140952dbc5210fa5e11fb0fd2 FEDERICA MORETTI Woven Hat\n4caa64949d86a1c4d67a535770346a96 FENDI monogram scarf\n86ca42b63c6de24ea5273d4632e68aef GARRETT LEIGHT Milwood' sunglasses\n0c662384f9a727304d03eab4a11de40c GUCCI Blooms scarf\n38ee9c89b9c78108b97b8284183be101 GUCCI Embroidered star scarf\na78d56da33d2f8bc80348649d81f1c34 GUCCI Floral embellished wide brim hat\n8d94c5f9f5ab8dc176c88ecc04a9fa19 GUCCI floral printed scarf\ne318ecb9c9c5124947863362d816dd29 GUCCI GG daisy print scarf\ndf4888f1235a3b2e3a76c0205c659bda GUCCI GG jacquard scarf\n26528c15dcc3891f768575cf82d4a0b5 GUCCI GG jacquard shawl\n2ad44670143388cb6241cfc4eb885bb5 Gucci GG Jubilee print scarf\nd9a3138837bc3b0a51329c88077034f8 Gucci GG Keys keyring\n93c42d1806632cb767f9d82e4d1448d4 Gucci GG Marmont matelassé wallet\nff2df49554c12220b2380ce6b422f0f8 GUCCI GG Marmont quilted leather bucket bag\n4cf6abad36e73f68487cf5d6db9fc6d6 Gucci GG Supreme French flap wallet\n13fa5dfb070bab32d7cd0911d682eae2 Gucci GG Supreme wallet\n2bc0d4f8db9044a388a6b6507f1ed135 GUCCI Leather belt with Horsebit\neec47b3cf91bb11be9686efa03c32f51 GUCCI Leather mini frame bag with fringe\n805b0cba47bb841012e5f411eef0da41 GUCCI Logo embellished belt wallet\n73c17d9e820c13c98e7ff9840b3bf415 GUCCI Mink fur panel printed scarf\n90e5b4cf3981b48659a6d17246d7dfee GUCCI Queen Margaret leather belt\n5670cae0f370312697d80680543558ff Gucci rose detail wide brim hat \n1b8b40e72c48fba53c11e9fe27f95b43 GUCCI Round Frame Sunglasses\n63a52afbb1f6f91ffe90d0fc681104f8 Gucci scarf \n2d6385f852f13391ac99d2d76b423156 Gucci Signature bow keyring\n1065b7837eb8345119f8a30882a8d3fd GUCCI Square Frame Glasses\n58d355ff8c31dfa439fd9e75f62c7fbe GUCCI The Emperor scarf\ned4ae42f23ce2f729d21db7fb6da86ae GUCCI W Iris' lurex bucket hat\n93951058efc7e7363708df2bcd287968 Gucci Wool cashmere scarf with Web \n7ad41afd91b1e7f1dbea263de9531a7e INVERNI Honey Comb pom beanie\n66a8f2c7bd3847c4bb382693150cf163 MAISON MICHEL colour block trilby hat\n089716f1435591d7b95d22c895008387 MAISON MICHEL embellished cats ears cap\n764f3e9652dfcd94465af207136cc08b MAISON MICHEL Fedora hat\n15d507550b9e12254fe487231a546564 MAISON MICHEL Henrietta fedora\n402cb65a9460134b02ca3aac299d0a91 MISSONI Knitted zig zag scarf\ne914228dc88dc3dc0ca229eb5fb7b83d MIU MIU Cat eye glasses\n0f3fec760a191393a04a7f1e77574497 MIU MIU matelassé wallet\n41726f944b726f338be4f96c20ef2fa3 MONCLER cross padded scarf\n14eff8e45d3090da9024fc751a39ef18 N.PEAL Chevron bobble scarf\n1e809864de65155e42c2dd8f64305103 N.PEAL fur neckwarmer\n532b3df2a55e287d9c0838e104328a11 N.PEAL raccoon pompom hat\n37e4eb9e1e141898fa3acde9eb60c473 OLIVER PEOPLES Keery glasses\nfa2d553653101d192185e79ceeea5222 PAUL SMITH Crossover Stripe' zip-around purse\nfdc8d004b7338a71cc8b723ad5a95677 PIERRE-LOUIS MASCIA printed patchwork scarf\nd9c3a94ee686fa379a45701dd7a66a20 PRADA classic continental wallet\n1aae86a431484aba61377cb4c4b6ee1d PRADA Classic continental wallet\ncb82a5c25132621a5371c1d6066dc2c2 PRADA fur patch mittens\n6bac32f94e1ac3c6ef288114a5ce4d92 PRADA Logo plaque wallet on chain\n8455c6e38743d3b5a0139657ed657e24 PRADA teddy bear trick keyring\nd7b6b06d9f74a0bc421b6e00e37019de PROENZA SCHOULER Metallic PS11 Wallet With Strap\n88a2690e98311b1f99049d1e38b55159 PS BY PAUL SMITH Fringed scarf\ndb47f0af26c2d46fdcc24db1ea20ab81 SAINT LAURENT leopard print scarf\n7b7fd9d641246db70033a92b5adebe06 SAINT LAURENT Fragments zip wallet\nbdff6a7e6fdaaf9d6ed176fd227be761 SAINT LAURENT SL 185 slim sunglasses\n23aa0d39ab3506823a5a83216e293b0c SAINT LAURENT star stud sunglasses\neacce8b4f54e2fa1b130548fabea3ed1 SAINT LAURENT  Compact Tri-fold Wallet\n4e359d3ca7506cc01fa6ce48622f3b76 SALVATORE FERRAGAMO Gancio French flap wallet\n2502abce9f06d1adcb5486a473422f4c SALVATORE FERRAGAMO Amy backpack\ne99acfbea243f6035556a82d95853c3b SALVATORE FERRAGAMO bow detail mini wallet\nb3db9246f9259c1ebda07ab594ff9fca SALVATORE FERRAGAMO Double Gancio continental wallet\nd30408d97bb7b40223a61b9d2c893a3d SALVATORE FERRAGAMO Gancio floral print scarf\n5fa18fe06abdaf8057109a24d7f36ede SALVATORE FERRAGAMO Gancio French continental wallet\n3c8bf98cd463058fe1f7db140cb853e1 SALVATORE FERRAGAMO Gancio print scarf\n3fbc87b3aa8cc65c4a9ff98889e56faa SALVATORE FERRAGAMO Miss Vara Bow clip cardholder\n70c5fb38128d63c3b475645750092026 SALVATORE FERRAGAMO Soft Sofia shoulder bag\nc6f093f13924af51ae53a39e77a23aea SALVATORE FERRAGAMO Vara organizer wallet\nf51dc9bd402a9846dee574e8044b4b71 SALVATORE FERRAGAMO weave knit scarf\n439ced483a59047954899f62bfe26916 STELLA MCCARTNEY beanie cat keyring\nda40930479cea4ac1f04994728dabb58 STELLA MCCARTNEY clip on aviator sunglasses\n375a4d5ad3d294dadcadd93e5b60a38c THOM BROWNE Tortoiseshell effect eye glasses\n65ed672af933c88c445fed9e78fa461c TOM FORD Round frame glasses\naac70c7b54ef384b3644334c2172abb3 VALENTINO \ne192b7336ef4c51d9b5ee83efd70b910 Valentino Garavani Rockstud key purse\nf49b3ae24d9cb0ad4eba22c9a7fe9a03 VIVIENNE WESTWOOD logo heart keychain\n1a485d8996e87c5c6bd0dc18a7f31d49 Y / PROJECT Napoleon football scarf\n0e34676d07d8db5a68cb575c0346bd07 YVES SALOMON removable pom pom knit hat\n9ee0e32b9dc42d36b9db08dcc459f677 Dolce & Gabbana Printed silk-twill scarf \nd9ef5a8a190cdb915315e6b99d911f8d Dolce & Gabbana Swarovski crystal-embellished round-frame rose gold-tone sunglasses\n594\n492\n"
     ]
    }
   ],
   "source": [
    "with open(\"kv-data\", \"r\") as fl:\n",
    "    itemlist = fl.read().split(\"\\n\")\n",
    "itemlist = [[w.replace(\"\\\"\", \"\") for w in t.split(\",\")] for t in itemlist]\n",
    "itemlist = [(t[2][len(\"name:\"):], hashlib.md5(t[2][len(\"name:\"):].encode()).hexdigest()) for t in itemlist if len(t) >= 3]\n",
    "print(itemlist[2])\n",
    "itemdict = {}\n",
    "for l in itemlist:\n",
    "    if(l[1] in itemdict.keys()):\n",
    "        print(l[1], l[0])\n",
    "    itemdict[l[1]] = l[0]\n",
    "print(len(itemlist))\n",
    "print(len(itemdict.keys()))\n"
   ]
  },
  {
   "cell_type": "code",
   "execution_count": 26,
   "metadata": {
    "collapsed": false
   },
   "outputs": [
    {
     "name": "stdout",
     "output_type": "stream",
     "text": [
      "Hottest items (in order): \nDolce & Gabbana Printed textured-leather iPhone 7 case :  20 mentions\nFEDERICA MORETTI Woven Hat :  20 mentions\nGARRETT LEIGHT Milwood' sunglasses :  20 mentions\nMAISON MICHEL Fedora hat :  20 mentions\nMAISON MICHEL Henrietta fedora :  20 mentions\nSAINT LAURENT leopard print scarf :  20 mentions\nSALVATORE FERRAGAMO Soft Sofia shoulder bag :  20 mentions\nTOM FORD Round frame glasses :  20 mentions\nALLSAINTS Balfern leather biker jacket :  20 mentions\nMIU MIU Cady dress :  20 mentions\nMIU MIU flared skirt :  20 mentions\nAlexander McQueen Petal Print blouse :  20 mentions\n"
     ]
    },
    {
     "ename": "KeyError",
     "evalue": "'5e433e2577259e8bf56f98e0036b9739'",
     "traceback": [
      "\u001b[0;31m---------------------------------------------------------------------------\u001b[0m",
      "\u001b[0;31mKeyError\u001b[0m                                  Traceback (most recent call last)",
      "\u001b[0;32m<ipython-input-26-ec35e75f812a>\u001b[0m in \u001b[0;36m<module>\u001b[0;34m()\u001b[0m\n\u001b[1;32m      1\u001b[0m \u001b[0mprint\u001b[0m\u001b[0;34m(\u001b[0m\u001b[0;34m\"Hottest items (in order): \"\u001b[0m\u001b[0;34m)\u001b[0m\u001b[0;34m\u001b[0m\u001b[0m\n\u001b[1;32m      2\u001b[0m \u001b[0;32mfor\u001b[0m \u001b[0mt\u001b[0m \u001b[0;32min\u001b[0m \u001b[0mtweetsGrouped\u001b[0m\u001b[0;34m:\u001b[0m\u001b[0;34m\u001b[0m\u001b[0m\n\u001b[0;32m----> 3\u001b[0;31m     \u001b[0mprint\u001b[0m\u001b[0;34m(\u001b[0m\u001b[0mitemdict\u001b[0m\u001b[0;34m[\u001b[0m\u001b[0mt\u001b[0m\u001b[0;34m[\u001b[0m\u001b[0;36m0\u001b[0m\u001b[0;34m]\u001b[0m\u001b[0;34m]\u001b[0m\u001b[0;34m,\u001b[0m \u001b[0;34m\": \"\u001b[0m\u001b[0;34m,\u001b[0m\u001b[0mt\u001b[0m\u001b[0;34m[\u001b[0m\u001b[0;36m1\u001b[0m\u001b[0;34m]\u001b[0m\u001b[0;34m,\u001b[0m \u001b[0;34m\"mentions\"\u001b[0m\u001b[0;34m)\u001b[0m\u001b[0;34m\u001b[0m\u001b[0m\n\u001b[0m",
      "\u001b[0;31mKeyError\u001b[0m: '5e433e2577259e8bf56f98e0036b9739'"
     ],
     "output_type": "error"
    }
   ],
   "source": [
    "print(\"Hottest items (in order): \")\n",
    "for t in tweetsGrouped:\n",
    "    print(itemdict[t[0]], \": \",t[1], \"mentions\")\n"
   ]
  },
  {
   "cell_type": "code",
   "execution_count": null,
   "metadata": {},
   "outputs": [],
   "source": []
  }
 ],
 "metadata": {
  "kernelspec": {
   "display_name": "Python 2",
   "language": "python",
   "name": "python2"
  },
  "language_info": {
   "codemirror_mode": {
    "name": "ipython",
    "version": 2
   },
   "file_extension": ".py",
   "mimetype": "text/x-python",
   "name": "python",
   "nbconvert_exporter": "python",
   "pygments_lexer": "ipython2",
   "version": "2.7.6"
  }
 },
 "nbformat": 4,
 "nbformat_minor": 0
}
