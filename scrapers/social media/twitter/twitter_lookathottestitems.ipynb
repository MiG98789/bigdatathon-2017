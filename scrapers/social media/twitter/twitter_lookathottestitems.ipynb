{
 "cells": [
  {
   "cell_type": "code",
   "execution_count": 5,
   "metadata": {
    "collapsed": true
   },
   "outputs": [],
   "source": [
    "from operator import itemgetter\n",
    "from itertools import groupby\n",
    "import hashlib\n",
    "with open(\"processed_tweets.csv\", \"r\") as fl:\n",
    "    all_content = fl.read().split(\"\\n\")\n",
    "\n",
    "all_content = [[w.replace(\"\\\"\", \"\") for w in t.split(\",\")] for t in all_content]\n",
    "\n",
    "\n",
    "\n",
    "tweets = [(t[1], t[2]) for t in all_content if len(t) > 4 and t[3].lower() ==\"tweet\"]\n",
    "bios = [t[2] for t in all_content if len(t) > 4 and t[3].lower() == \"bio\"]"
   ]
  },
  {
   "cell_type": "code",
   "execution_count": 6,
   "metadata": {},
   "outputs": [
    {
     "name": "stdout",
     "output_type": "stream",
     "text": [
      "Total number of items mentioned in tweets:  160\n"
     ]
    }
   ],
   "source": [
    "tweetsGrouped = [(k, len([x for x,y in g])) for k,g in groupby(tweets, key=itemgetter(0))]\n",
    "tweetsGrouped.sort(key=itemgetter(1), reverse=True)\n",
    "print(\"Total number of items mentioned in tweets: \", len(tweetsGrouped))\n",
    "\n"
   ]
  },
  {
   "cell_type": "code",
   "execution_count": 22,
   "metadata": {
    "collapsed": false
   },
   "outputs": [
    {
     "name": "stdout",
     "output_type": "stream",
     "text": [
      "('ALEXANDER MCQUEEN Eagle & Leaves scarf', '8a430767e7c498bbf900a635dfe444d1')\n56de1631d113bd2d23988e53ab3714d4 Dolce & Gabbana Gold-tone\ndbab6432125b5e7a2fc6419e83d00ffd ALBERTA FERRETTI Friday intarsia beanie\n9122a14968c70d2bf76f9a7579267b65 ALEXANDER MCQUEEN Wallet with chain\n8a430767e7c498bbf900a635dfe444d1 ALEXANDER MCQUEEN Eagle & Leaves scarf\n3657d567ee390268656d1cc5d368b136 ANYA HINDMARCH The Stack circus multi wristlet makeup bag\nab24a1d1ccd6140a6452411f904ab228 ANYA HINDMARCH The Stack coin purse\n5434dc21e5fb9e2e95a033ac6368eb4c BOTTEGA VENETA Cat eye glasses\n42ed04be01fd7099f9267225cb2d747b BURBERRY Beasts print and check scarf\n9d0ac8f4f375e6547bdac2e6d2fc83be CHLOÉ Faye wallet\na7a549facbce994f53eff184c80fdfb2 DITA Brixa glasses\n64ea0d816293ae839ae787243a66a645 Dolce & Gabbana Carretto painted carved wood jewelry box\n60c932c583402fb1d8bcb27514042bbf Dolce & Gabbana Dauphine floral-print textured-leather cardholder\nd680262ee1c63c7ec3e33017787a3994 Dolce & Gabbana Embellished lizard-effect leather iPhone 7 Plus case\n8ee2d56e50b2d49a51648bc570b3e149 Dolce & Gabbana Embellished textured-leather iPhone 7 case\ne34a1e46b70f786f85745136377f8561 Dolce & Gabbana Floral-print silk-crepon scarf\n56de1631d113bd2d23988e53ab3714d4 Dolce & Gabbana Gold-tone\n56de1631d113bd2d23988e53ab3714d4 Dolce & Gabbana Gold-tone\n4beff84626f2f8d3323c34d72c0af16c DOLCE & GABBANA hydrangea print scarf\n5d1259beaada5a9959e4b9f4735bf4fb Dolce & Gabbana Printed silk-twill scarf\neb6383582b3e35e62f7a1307c7cff585 Dolce & Gabbana Printed silk-voile scarf\n9199b5a55fb129bd0e1697649b741db3 Dolce & Gabbana Printed textured-leather iPhone 7 case\n997b0e058417cc0bbcdf1ba3fdffa9c4 Dolce & Gabbana Textured-leather and metallic floral-print acrylic iPhone 7 case \ndab2d64702d0a8a260115373da916e9d DSQUARED2 patches baseball cap\ne5ccb850773e2aab11f8d4b8112ba03a ETRO Delhy scarf\nbcca52182387d6c45251b5128b5a65e3 FEDERICA MORETTI Woven Hat\n55e218fa7a696f62770b77233094b31e FENDI monogram scarf\na62e92ea33d0259f14007a9a437d19e7 GARRETT LEIGHT Milwood' sunglasses\nd5debaf043f13e916d326e669a6c577a GUCCI Blooms scarf\n92c3d349351273a08ec5046909edefa1 GUCCI Embroidered star scarf\n292e4d41600b38f62fb817938dcfb19e GUCCI Floral embellished wide brim hat\nf94303fc2c0304af9a2f3e2008d95bc2 GUCCI floral printed scarf\ncb6335443889339f4445d1fa08044d1f GUCCI GG daisy print scarf\nfa4feffe0996bc48e2205ccbcd4f9895 GUCCI GG jacquard scarf\n55f8dde083b956d923fce6f0a7e27049 GUCCI GG jacquard shawl\nea7e1194295622e0a357dfbb0bc89428 Gucci GG Jubilee print scarf\n0ba0b19624187c9abfd4810585cc0dcf Gucci GG Keys keyring\n76891f1016d52806cbaee74238bc5e09 Gucci GG Marmont matelassé wallet\n5c7ff4f6d9af2c78982395ec2a06aa17 GUCCI GG Marmont quilted leather bucket bag\nee826e62e454e206de3debdd7817fae4 Gucci GG Supreme French flap wallet\n7eb95bfd7bae434e09fe422f5de39ce9 Gucci GG Supreme wallet\ndbc4effae7edb0c3002aec9cbe6aab6f GUCCI Leather belt with Horsebit\n7167cbe3cf93e6ab211158df66d867a9 GUCCI Leather mini frame bag with fringe\n2db3305cdeb219d1fc6f083542d7e4bc GUCCI Logo embellished belt wallet\nf0dac32e85a05e9b810afb17d2ca211c GUCCI Mink fur panel printed scarf\nb2b6d6f0c9e103f6fa2c1c7c7ba3c193 GUCCI Queen Margaret leather belt\nde0ac0d1bab36a8f02e53c63bdd161db Gucci rose detail wide brim hat \n3550f1c2fdbae8ef8ef567066c088ab5 GUCCI Round Frame Sunglasses\n97e8a7b6c155ad8f53d2a48ead6a9e5d Gucci scarf \nf10212402a02b5be1342474294bd5e36 Gucci Signature bow keyring\n54f29da18ab8707b800983cec2a222b2 GUCCI Square Frame Glasses\n580822d6531a7f15bc3f53ec6013914c GUCCI The Emperor scarf\n0c26b947635c6a02a6abc28237ba6822 GUCCI W Iris' lurex bucket hat\n5782e6909781afb58560ffdba61e13fc Gucci Wool cashmere scarf with Web \n7655432309589f67b17dd45f673d664c INVERNI Honey Comb pom beanie\n47886288ceb0964ee6db57d14c15c348 MAISON MICHEL colour block trilby hat\nd4f015ed2f4f26afaf39e3b2feac9151 MAISON MICHEL embellished cats ears cap\n59cf14544cfc2497c485881dd2f69801 MAISON MICHEL Fedora hat\nd6b2a13866c74bd1049a6437ee61beed MAISON MICHEL Henrietta fedora\n3fe492b0f24db51f72836ed5a1c920ca MISSONI Knitted zig zag scarf\ne122b04655952c79f87e60e2544b974f MIU MIU Cat eye glasses\nd29fd801dac6dd184fdd4ea801e11cc8 MIU MIU matelassé wallet\n1374f58acff152eacf98e2dc621136e0 MONCLER cross padded scarf\ndb02603e7ed4ae511a9e4f09953e9110 N.PEAL Chevron bobble scarf\nd40d93bbf7959a8171d2adf7ba71ac82 N.PEAL fur neckwarmer\n33dc589b8a0895e500c9647c43a9c3b5 N.PEAL raccoon pompom hat\neb34fc3f751e65a41276c8f16b354f14 OLIVER PEOPLES Keery glasses\n1d48c64c837cbe41ce2d3cd0989e3b85 PAUL SMITH Crossover Stripe' zip-around purse\n17cd236fbbe2504d1d84f92e58539fcd PIERRE-LOUIS MASCIA printed patchwork scarf\n457db0d542a0795688626c0c08c24278 PRADA classic continental wallet\n71c7a09e06609baa167221264e1e0c0a PRADA Classic continental wallet\n1dda5ed52ce8dbfc7965bd714a3fcb29 PRADA fur patch mittens\nd58e6d3209760fd17b4a51b16d70abba PRADA Logo plaque wallet on chain\nb94e1e6e5a5087b05af5c3baf9dc1cf0 PRADA teddy bear trick keyring\n55f833c9f2314ab526dc4fb6411a5ac2 PROENZA SCHOULER Metallic PS11 Wallet With Strap\n4119b0996acf29bf9f2d248044afe709 PS BY PAUL SMITH Fringed scarf\na7c73ca94ff1ae11167ede6f48e90be0 SAINT LAURENT leopard print scarf\n4b9c9e9389bb1680747dbd25277ed0c0 SAINT LAURENT Fragments zip wallet\n4d7efa0fd7b537ba5f089c2f98b76509 SAINT LAURENT SL 185 slim sunglasses\n947a002b580e097c3fd56f1123d4f860 SAINT LAURENT star stud sunglasses\nf123c574832ced0386e10b9607ee9cc5 SAINT LAURENT  Compact Tri-fold Wallet\n727e7ba59e139a2593cbc516ed9b9705 SALVATORE FERRAGAMO Gancio French flap wallet\ne1bdb83aa7111ebe236015e092d3b10a SALVATORE FERRAGAMO Amy backpack\n6800ae86eb818e04ff29af2c474391af SALVATORE FERRAGAMO bow detail mini wallet\ne224be7e77f535868c903491fcb5c33c SALVATORE FERRAGAMO Double Gancio continental wallet\n2a619721ebe239f2179ecfdcd968f907 SALVATORE FERRAGAMO Gancio floral print scarf\n74abe37a48f50e76cf61c2fdbe6ab73b SALVATORE FERRAGAMO Gancio French continental wallet\nc2cc40de3e6e8988c1ef00dad18d7c35 SALVATORE FERRAGAMO Gancio print scarf\nb220562de49ee0c2fc95d5ae988b7793 SALVATORE FERRAGAMO Miss Vara Bow clip cardholder\ne3302d946033e7a97f8e50c92ac1078e SALVATORE FERRAGAMO Soft Sofia shoulder bag\n9cac60fe52833551b33903e72602819a SALVATORE FERRAGAMO Vara organizer wallet\n8fd392f0a150e5e0fc471abbfe64e39f SALVATORE FERRAGAMO weave knit scarf\n6eb32167e14055054428cd0dc9b35719 STELLA MCCARTNEY beanie cat keyring\nd4d647e91a2c98a2c919f01f40dc5c85 STELLA MCCARTNEY clip on aviator sunglasses\n7afce9cc4de9f380c83f4eed9f28f50f THOM BROWNE Tortoiseshell effect eye glasses\nd21c2b8d30fa00cf5870a4c3d2db0198 TOM FORD Round frame glasses\ne21680e1b6bda6216a30d729edf06f89 VALENTINO \n419f341936c44d5d684c6783899f7bda Valentino Garavani Rockstud key purse\n384d16c88b51f0a591a84c0c7537cf16 VIVIENNE WESTWOOD logo heart keychain\nc9281c9f539a162efab25c7d03c05821 Y / PROJECT Napoleon football scarf\n491a6c1031b77ce75c84b19362f55479 YVES SALOMON removable pom pom knit hat\n744978ecacd9b6e519d9bc0518bd9b1a Dolce & Gabbana Printed silk-twill scarf \n2ed091dd1258b2f16f18ca3042eb3674 Dolce & Gabbana Swarovski crystal-embellished round-frame rose gold-tone sunglasses\nALEXANDER MCQUEEN Eagle & Leaves scarf\n594\n492\n"
     ]
    }
   ],
   "source": [
    "with open(\"kv-data\", \"r\") as fl:\n",
    "    itemlist = fl.read().split(\"\\n\")\n",
    "itemlist = [[w.replace(\"\\\"\", \"\") for w in t.split(\",\")] for t in itemlist]\n",
    "itemlist = [(t[2][len(\"name:\"):], hashlib.md5(t[2].encode()).hexdigest()) for t in itemlist if len(t) >= 3]\n",
    "print(itemlist[2])\n",
    "itemdict = {}\n",
    "for l in itemlist:\n",
    "    if(l[1] in itemdict.keys()):\n",
    "        print(l[1], l[0])\n",
    "    itemdict[l[1]] = l[0]\n",
    "print(itemdict['8a430767e7c498bbf900a635dfe444d1'])\n",
    "print(len(itemlist))\n",
    "print(len(itemdict.keys()))\n"
   ]
  },
  {
   "cell_type": "code",
   "execution_count": 14,
   "metadata": {
    "collapsed": false
   },
   "outputs": [
    {
     "name": "stdout",
     "output_type": "stream",
     "text": [
      "Hottest items (in order): \n"
     ]
    },
    {
     "ename": "KeyError",
     "evalue": "'2caacb2aaef5f97d25d2ed1b3ebb0f5d'",
     "traceback": [
      "\u001b[0;31m---------------------------------------------------------------------------\u001b[0m",
      "\u001b[0;31mKeyError\u001b[0m                                  Traceback (most recent call last)",
      "\u001b[0;32m<ipython-input-14-ec35e75f812a>\u001b[0m in \u001b[0;36m<module>\u001b[0;34m()\u001b[0m\n\u001b[1;32m      1\u001b[0m \u001b[0mprint\u001b[0m\u001b[0;34m(\u001b[0m\u001b[0;34m\"Hottest items (in order): \"\u001b[0m\u001b[0;34m)\u001b[0m\u001b[0;34m\u001b[0m\u001b[0m\n\u001b[1;32m      2\u001b[0m \u001b[0;32mfor\u001b[0m \u001b[0mt\u001b[0m \u001b[0;32min\u001b[0m \u001b[0mtweetsGrouped\u001b[0m\u001b[0;34m:\u001b[0m\u001b[0;34m\u001b[0m\u001b[0m\n\u001b[0;32m----> 3\u001b[0;31m     \u001b[0mprint\u001b[0m\u001b[0;34m(\u001b[0m\u001b[0mitemdict\u001b[0m\u001b[0;34m[\u001b[0m\u001b[0mt\u001b[0m\u001b[0;34m[\u001b[0m\u001b[0;36m0\u001b[0m\u001b[0;34m]\u001b[0m\u001b[0;34m]\u001b[0m\u001b[0;34m,\u001b[0m \u001b[0;34m\": \"\u001b[0m\u001b[0;34m,\u001b[0m\u001b[0mt\u001b[0m\u001b[0;34m[\u001b[0m\u001b[0;36m1\u001b[0m\u001b[0;34m]\u001b[0m\u001b[0;34m,\u001b[0m \u001b[0;34m\"mentions\"\u001b[0m\u001b[0;34m)\u001b[0m\u001b[0;34m\u001b[0m\u001b[0m\n\u001b[0m",
      "\u001b[0;31mKeyError\u001b[0m: '2caacb2aaef5f97d25d2ed1b3ebb0f5d'"
     ],
     "output_type": "error"
    }
   ],
   "source": [
    "print(\"Hottest items (in order): \")\n",
    "for t in tweetsGrouped:\n",
    "    print(itemdict[t[0]], \": \",t[1], \"mentions\")\n"
   ]
  },
  {
   "cell_type": "code",
   "execution_count": null,
   "metadata": {},
   "outputs": [],
   "source": []
  }
 ],
 "metadata": {
  "kernelspec": {
   "display_name": "Python 2",
   "language": "python",
   "name": "python2"
  },
  "language_info": {
   "codemirror_mode": {
    "name": "ipython",
    "version": 2
   },
   "file_extension": ".py",
   "mimetype": "text/x-python",
   "name": "python",
   "nbconvert_exporter": "python",
   "pygments_lexer": "ipython2",
   "version": "2.7.6"
  }
 },
 "nbformat": 4,
 "nbformat_minor": 0
}
