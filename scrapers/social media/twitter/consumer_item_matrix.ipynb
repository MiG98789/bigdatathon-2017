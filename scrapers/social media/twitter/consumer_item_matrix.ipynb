{
 "cells": [
  {
   "cell_type": "code",
   "execution_count": 16,
   "metadata": {
    "collapsed": true
   },
   "outputs": [
    {
     "name": "stdout",
     "output_type": "stream",
     "text": [
      "  (0, 1565)\t0.322560674576\n  (0, 1082)\t0.322560674576\n  (0, 1004)\t0.322560674576\n  (0, 782)\t0.322560674576\n  (0, 643)\t0.322560674576\n  (0, 635)\t0.305739974784\n  (0, 535)\t0.305739974784\n  (0, 187)\t0.322560674576\n  (0, 186)\t0.248229622338\n  (0, 152)\t0.322560674576\n  (0, 151)\t0.152021277303\n"
     ]
    },
    {
     "name": "stdout",
     "output_type": "stream",
     "text": [
      "('e15ac260bca0119df0eccc5817d755dd', <1x2493 sparse matrix of type '<class 'numpy.float64'>'\n\twith 7 stored elements in Compressed Sparse Row format>)\n"
     ]
    }
   ],
   "source": [
    "from sklearn.feature_extraction.text import TfidfVectorizer\n",
    "import hashlib\n",
    "from sklearn.externals import joblib\n",
    "import numpy\n",
    "from operator import itemgetter\n",
    "from itertools import groupby\n",
    "with open(\"processed_tweets.csv\", \"r\") as fl:\n",
    "    all_content = fl.read().split(\"\\n\")\n",
    "\n",
    "all_content = [[w.replace(\"\\\"\", \"\") for w in t.split(\",\")] for t in all_content]\n",
    "tweets = [(t[0], t[1], t[2]) for t in all_content if len(t) > 4 and t[3].lower() ==\"tweet\"]\n",
    "bios = [(t[1], t[2]) for t in all_content if len(t) > 4 and t[3].lower() == \"bio\"]\n",
    "\n",
    "# tweetsGrouped = [(k, len([x for x,y in g])) for k,g in groupby(tweets, key=itemgetter(0))]\n",
    "# tweetsGrouped.sort(key=itemgetter(1), reverse=True)\n",
    "# print(len(tweetsGrouped))\n",
    "# tweetvectorizer = TfidfVectorizer(stop_words=\"english\")\n",
    "# tweetvectorizer.fit_transform(tweets)\n",
    "# #joblib.dump(tweetvectorizer, \"tweetvector\")\n",
    "\n",
    "biovectorizer = TfidfVectorizer(stop_words=\"english\")\n",
    "biovectorizer.fit_transform([t[1] for t in bios])\n",
    "\n",
    "#joblib.dump(biovectorizer, \"biovector\")\n",
    "\n",
    "biovecs = [(t[0], biovectorizer.transform([t[1]])[0]) for t in bios]\n",
    "print(biovecs[0][1])\n",
    "with open(\"kv-data\", \"r\") as ft:\n",
    "    all_items = ft.read().split(\"\\n\")\n",
    "    \n",
    "all_items = [[w.replace(\"\\\"\", \"\") for w in t.split(\",\")] for t in all_items]\n",
    "all_item_descs = [t[5][len(\"description:\"):] for t in all_items if len(t) >= 6]\n",
    "descriptionvectorizer = TfidfVectorizer(stop_words='english')\n",
    "descriptionvectorizer.fit_transform(all_item_descs)\n",
    "#hashlib.md5(t[2][len(\"name:\"):].encode()).hexdigest())\n",
    "all_items = [((hashlib.md5(t[2][len(\"name:\"):].encode()).hexdigest()), \n",
    "             descriptionvectorizer.transform([t[5][len(\"description:\"):]])[0]) \n",
    "             for t in all_items if len(t) >= 5]\n",
    "print(all_items[0])\n",
    "\n",
    "\n"
   ]
  },
  {
   "cell_type": "code",
   "execution_count": 22,
   "metadata": {},
   "outputs": [
    {
     "name": "stdout",
     "output_type": "stream",
     "text": [
      "\n[ 0.  0.  0. ...,  0.  0.  0.]\n"
     ]
    }
   ],
   "source": [
    "print()\n",
    "finalDims = (all_items[0][1].shape[1], \n",
    "             biovecs[0][1].shape[1])\n",
    "finalMatrix = numpy.zeros(finalDims)\n",
    "# print()"
   ]
  },
  {
   "cell_type": "code",
   "execution_count": 27,
   "metadata": {},
   "outputs": [
    {
     "name": "stdout",
     "output_type": "stream",
     "text": [
      "[[ 0.  0.  0. ...,  0.  0.  0.]\n [ 0.  0.  0. ...,  0.  0.  0.]\n [ 0.  0.  0. ...,  0.  0.  0.]\n ..., \n [ 0.  0.  0. ...,  0.  0.  0.]\n [ 0.  0.  0. ...,  0.  0.  0.]\n [ 0.  0.  0. ...,  0.  0.  0.]]\n"
     ]
    }
   ],
   "source": [
    "for bio in biovecs:\n",
    "    for item in all_items:\n",
    "        if bio[0] == item[0]:\n",
    "            mat = item[1].T\n",
    "            for i, e in enumerate(mat):\n",
    "                if e != 0.:\n",
    "                    finalMatrix[i] += bio[1]\n",
    "print(finalMatrix)\n"
   ]
  },
  {
   "cell_type": "code",
   "execution_count": null,
   "metadata": {},
   "outputs": [],
   "source": []
  }
 ],
 "metadata": {
  "kernelspec": {
   "display_name": "Python 2",
   "language": "python",
   "name": "python2"
  },
  "language_info": {
   "codemirror_mode": {
    "name": "ipython",
    "version": 2
   },
   "file_extension": ".py",
   "mimetype": "text/x-python",
   "name": "python",
   "nbconvert_exporter": "python",
   "pygments_lexer": "ipython2",
   "version": "2.7.6"
  }
 },
 "nbformat": 4,
 "nbformat_minor": 0
}
