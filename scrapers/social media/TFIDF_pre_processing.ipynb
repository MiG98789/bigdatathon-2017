{
 "cells": [
  {
   "cell_type": "code",
   "execution_count": 11,
   "metadata": {
    "collapsed": false
   },
   "outputs": [],
   "source": [
    "from pyspark import SparkContext\n",
    "sc=SparkContext()"
   ]
  },
  {
   "cell_type": "code",
   "execution_count": 4,
   "metadata": {
    "collapsed": true
   },
   "outputs": [],
   "source": [
    "import re\n",
    "import datetime\n",
    "import sys\n",
    "import os\n"
   ]
  },
  {
   "cell_type": "code",
   "execution_count": 39,
   "metadata": {
    "collapsed": false
   },
   "outputs": [],
   "source": [
    "data = sc.parallelize([(\"userid1\",\"This is a tweet\",\"tweets\", \"timestamp1\", \"source1\"),(\"userid2\",\"content2\",\"content_type2\", \"timestamp2\", \"source2\")])"
   ]
  },
  {
   "cell_type": "code",
   "execution_count": 134,
   "metadata": {
    "collapsed": false
   },
   "outputs": [
    {
     "data": {
      "text/plain": [
       "[u'\"blazar30\",\"11787678\",\"\",\"bio\",\"2017-12-02T16:23:24\",\"twitter\"',\n",
       " u'\"anman30031\",\"11787678\",\"\",\"bio\",\"2017-12-02T16:23:37\",\"twitter\"',\n",
       " u'\"Dolce_Innocent2\",\"11787678\",\"\",\"bio\",\"2017-12-02T16:23:53\",\"twitter\"',\n",
       " u'\"AriAngioloni\",\"11787678\",\"img classEmoji EmojiforText srchttpsabstwimgcomemojiv272x722b50png draggablefalse alt\\u2b50\\ufe0f titleMedium star arialabelEmoji Medium starJIKOOK IS REAL\",\"bio\",\"2017-12-02T16:24:05\",\"twitter\"',\n",
       " u'\"SmokeeRobinson\",\"11787678\",\"Also known as Joe the Policeman in the quotWhat39s Goin Downquot episode of quotThat39s My Mamaquot PSN  MrWarden1117\",\"bio\",\"2017-12-02T16:24:07\",\"twitter\"',\n",
       " u'\"StayFoodit\",\"11787678\",\"Amiamo l39Agroalimentare e il made in Italy abbiamo creato un centro commerciale online di prodotti tipici di nicchia a hrefstayfood classtweeturl twitteratreply prettylink dirltr datamentioneduserid0 relnofollow ssbstayfoodbait  a hrefhashtagfoodsrchash dataquerysourcehashtagclick classtwitterhashtag prettylink jsnav dirltr ssbfoodba a hrefhashtagwinesrchash dataquerysourcehashtagclick classtwitterhashtag prettylink jsnav dirltr ssbwineba a hrefhashtagcheesesrchash dataquerysourcehashtagclick classtwitterhashtag prettylink jsnav dirltr ssbcheeseba a hrefhashtagpizzasrchash dataquerysourcehashtagclick classtwitterhashtag prettylink jsnav dirltr ssbpizzaba\",\"bio\",\"2017-12-02T16:24:07\",\"twitter\"',\n",
       " u'\"DOLCE_COFFEE_\",\"11787678\",\"\\u308d\\u306e\\u3093\\u5c4b\\u30af\\u30e9\\u30f3TiShps4FF15FF14\\u30a4\\u30d5\\u9bd6WarframePSIDSmilingDoll\\u30d5\\u30ec\\u52df\\u96c6\\u4e2dWEARnana a hrefhttpstcowNIS0ZSfaK relnofollow noopener dirltr dataexpandedurlhttpsnanamusiccomusers398986 classtwittertimelinelink targetblank titlehttpsnanamusiccomusers398986 span classinvisiblehttpsspanspan classjsdisplayurlnanamusiccomusers398986spanspan classtcoellipsisspan classinvisiblenbspspanspana\",\"bio\",\"2017-12-02T16:24:09\",\"twitter\"',\n",
       " u'\"davidedigirola1\",\"11787678\",\"\",\"bio\",\"2017-12-02T16:24:32\",\"twitter\"',\n",
       " u'\"Dolce_Innocent2\",\"11787678\",\"\",\"bio\",\"2017-12-02T16:24:46\",\"twitter\"',\n",
       " u'\"mizu_dolce\",\"11787678\",\"\",\"bio\",\"2017-12-02T16:24:48\",\"twitter\"',\n",
       " u'\"Lilliflo\",\"11787678\",\"\",\"bio\",\"2017-12-02T16:24:55\",\"twitter\"',\n",
       " u'\"AgosDolce9\",\"11787678\",\"\",\"bio\",\"2017-12-02T16:25:01\",\"twitter\"',\n",
       " u'\"LtLoko\",\"11787678\",\"Aquest perfil es personal i intransferible m39encanta la tecnologia m39apassiona la m\\xfasica i intente gaudirles amb un somriure\",\"bio\",\"2017-12-02T16:25:11\",\"twitter\"',\n",
       " u'\"R_ono_N\",\"11787678\",\"nana\\u6c11img classEmoji EmojiforText srchttpsabstwimgcomemojiv272x721f3a4png draggablefalse alt\\U0001f3a4 titleMicrophone arialabelEmoji Microphone\\u666e\\u901a\\u306e\\u4eba\\u9593img classEmoji EmojiforText srchttpsabstwimgcomemojiv272x721f464png draggablefalse alt\\U0001f464 titleBust in silhouette arialabelEmoji Bust in silhouetteimg classEmoji EmojiforText srchttpsabstwimgcomemojiv272x721f464png draggablefalse alt\\U0001f464 titleBust in silhouette arialabelEmoji Bust in silhouetteimg classEmoji EmojiforText srchttpsabstwimgcomemojiv272x721f464png draggablefalse alt\\U0001f464 titleBust in silhouette arialabelEmoji Bust in silhouette\\u7c73\\u6d25\\u7384\\u5e2b\\u3055\\u3093  \\u307c\\u304f\\u308a\\u308a  amazarashi\\u3000\\u3000\\u96e2\\u308c\\u308b\\u65b9\\u306f\\u3054\\u52dd\\u624b\\u306b\\u3069\\u3046\\u305eimg classEmoji EmojiforText srchttpsabstwimgcomemojiv272x721f44bpng draggablefalse alt\\U0001f44b titleWaving hand sign arialabelEmoji Waving hand sign\\uff8a\\uff9e\\uff72\\uff8b\\uff9e\",\"bio\",\"2017-12-02T16:25:26\",\"twitter\"',\n",
       " u'\"mizu_dolce\",\"11787678\",\"\",\"bio\",\"2017-12-02T16:26:00\",\"twitter\"',\n",
       " u'\"Trend_C5555\",\"11787678\",\"\",\"bio\",\"2017-12-02T16:26:06\",\"twitter\"',\n",
       " u'\"LA_DOLCE_VITA_B\",\"11787678\",\"\\uc0ac\\ub9ac\\ubd84\\ubcc4\",\"bio\",\"2017-12-02T16:26:14\",\"twitter\"',\n",
       " u'\"classicmusicn1\",\"11787678\",\"\",\"bio\",\"2017-12-02T16:26:41\",\"twitter\"',\n",
       " u'\"LA_DOLCE_VITA_B\",\"11787678\",\"\\uc0ac\\ub9ac\\ubd84\\ubcc4\",\"bio\",\"2017-12-02T16:26:57\",\"twitter\"',\n",
       " u'\"ajmanalo06\",\"11787678\",\"\",\"bio\",\"2017-12-02T16:27:25\",\"twitter\"',\n",
       " u'\"blazar30\",\"11787678\",\"GFvip per meil vincitore della seconda edizione del Grande Fratello Vip \\xe8Ivanaaaaaaaa',\n",
       " u'Mi spiace per Luca ma lei \\xe8 proprio il massimo',\n",
       " u'Educatadolcecarinacuriosagiocherellonaaltruistaintelligentee chi pi\\xf9 ne ha pi\\xf9 ne metta \",\"tweet\",\"2017-12-02T16:23:24\",\"twitter\"',\n",
       " u'\"anman30031\",\"11787678\",\"\\u3042\\u308a\\u304c\\u3068\\u3046\\uff01\\u8fd4\\u4fe1\\u9045\\u308c\\u3066\\u3054\\u3081\\u3093\\u306d\",\"tweet\",\"2017-12-02T16:23:37\",\"twitter\"',\n",
       " u'\"Dolce_Innocent2\",\"11787678\",\"\\u5831\\u916c\\u30c1\\u30b1\\u30c3\\u30c8\\u306b\\u7948\\u308a\\u3092\\u8fbc\\u3081\\u3066\\u3001\\u65e6\\u90a3\\u306b\\u5f15\\u304b\\u305b\\u305f\\u3089\\u30c9\\u30ed\\u30fc\\u30eccv\\u767d\\u4e95\\u3055\\u3093\\u6765\\u307e\\u3057\\u305f\\uff01',\n",
       " u'\\u30b5\\u30dd\\u30fc\\u30c8\\u3082\\u542b\\u3081\\u3066\\u5168\\u54e1\\u30c9\\u30ed\\u30fc\\u30ec\\u30c1\\u30fc\\u30e0\\u3092\\u4f5c\\u308c\\u308b\\u306e\\u304c\\u697d\\u3057\\u3044\\u266a',\n",
       " u'',\n",
       " u'\\u30c9\\u30ed\\u30fc\\u30ec\\u3084\\u30c1\\u30eb\\u30b3\\u306b\\u306f\\u5e78\\u305b\\u306b\\u306a\\u3063\\u3066\\u6b32\\u3057\\u3044\\u306a\\u3042pictwittercomthgjUXqLFF\",\"tweet\",\"2017-12-02T16:23:53\",\"twitter\"',\n",
       " u'\"AriAngioloni\",\"11787678\",\"Ogni volta che sento cantare Jungkook mi viene la pelle doca',\n",
       " u'La sua voce \\xe8 veramente bella e dolce\",\"tweet\",\"2017-12-02T16:24:05\",\"twitter\"',\n",
       " u'\"SmokeeRobinson\",\"11787678\",\"Dolce rollie holy moley no days off\",\"tweet\",\"2017-12-02T16:24:07\",\"twitter\"',\n",
       " u'\"StayFoodit\",\"11787678\",\"Torta di Vigolo un dolce misterioso un segreto prezioso un sapore godurioso httpswwwstayfoodittortadivigoloundolcemisteriosounsegretopreziosounsaporegodurioso\\xa0\\u2026',\n",
       " u'cake dessert italianfood\",\"tweet\",\"2017-12-02T16:24:07\",\"twitter\"',\n",
       " u'\"DOLCE_COFFEE_\",\"11787678\",\"\\u7720\\u308c\\u306a\\u3044\\u3051\\u3069\\u3050\\u3063\\u3069\\u306a\\u3044\\u3068\\u3002\",\"tweet\",\"2017-12-02T16:24:09\",\"twitter\"',\n",
       " u'\"davidedigirola1\",\"11787678\",\"AntonellaLaTor6 Ciaoo Antonella Dolce sera\",\"tweet\",\"2017-12-02T16:24:32\",\"twitter\"',\n",
       " u'\"Dolce_Innocent2\",\"11787678\",\"\\u305f\\u3076\\u3093\\u304a\\u304b\\u3057\\u304f\\u306a\\u3063\\u3066\\u3044\\u304f\\u2026\\u304b\\u3082\",\"tweet\",\"2017-12-02T16:24:46\",\"twitter\"',\n",
       " u'\"mizu_dolce\",\"11787678\",\"\\u30dc\\u30b8\\u30e7\\u30ec\\u30fc\\u30fb\\u30cc\\u30fc\\u30dc\\u30fc\\u306e\\u89e3\\u7981\\u65e5 ww\",\"tweet\",\"2017-12-02T16:24:48\",\"twitter\"',\n",
       " u'\"Lilliflo\",\"11787678\",\"E sidolce serata Terry\",\"tweet\",\"2017-12-02T16:24:55\",\"twitter\"',\n",
       " u'\"AgosDolce9\",\"11787678\",\"pictwittercomFH5wAZYKiD\",\"tweet\",\"2017-12-02T16:25:01\",\"twitter\"',\n",
       " u'\"LtLoko\",\"11787678\",\"Quan en laniversari del naixement de Maria Callas busques versions de laria Il Dolce Suono Lucia Di Lammermor i trobes aquesta adaptaci\\xf3 per a Le Cinquieme Element cantada en directe Emorr\\xe0giaDePlaerhttpsyoutubeSPf2ANjUbrY\\xa0\",\"tweet\",\"2017-12-02T16:25:11\",\"twitter\"',\n",
       " u'\"R_ono_N\",\"11787678\",\"\\u3050\\u3063\\u306a\\u3044\\uff01\\uff01\\uff01\",\"tweet\",\"2017-12-02T16:25:26\",\"twitter\"',\n",
       " u'\"mizu_dolce\",\"11787678\",\"\\u7269\\u8a9e\\u5275\\u4f5c\\u3059\\u308b\\u306b\\u3082\\u8a9e\\u5f59\\u529b\\u3068\\u6587\\u7ae0\\u529b\\u306a\\u3044\\u3068\\u7121\\u7406\\u3058\\u3083\\u306d\",\"tweet\",\"2017-12-02T16:26:00\",\"twitter\"',\n",
       " u'\"Trend_C5555\",\"11787678\",\"\\u3010DolceGabbana\\u3011\\u30c9\\u30eb\\u30c1\\u30a7\\uff06\\u30ac\\u30c3\\u30d0\\u30fc\\u30ca \\u30ec\\u30aa\\u30d1\\u30fc\\u30c9\\u30b9\\u30cb\\u30fc\\u30ab\\u30fc',\n",
       " u'\\u500b\\u6027\\u7684\\u306a\\u30c7\\u30b6\\u30a4\\u30f3\\u3002\\u30c9\\u30eb\\u30ac\\u30d0\\u306e\\u4e16\\u754c\\u89b3\\u3092\\u582a\\u80fd\\u3067\\u304d\\u308b\\u30a2\\u30a4\\u30c6\\u30e0\\u3002',\n",
       " u'\\u8db3\\u5143\\u306b\\u30a2\\u30af\\u30bb\\u30f3\\u30c8\\u3092\\u3064\\u3051\\u308b\\u30a2\\u30a4\\u30c6\\u30e0\\u3068\\u3057\\u3066\\u30aa\\u30b9\\u30b9\\u30e1\\u3067\\u3059\\u266a',\n",
       " u'httpgooglrRV1N\\xa0\",\"tweet\",\"2017-12-02T16:26:06\",\"twitter\"',\n",
       " u'\"LA_DOLCE_VITA_B\",\"11787678\",\"\\ub098\\ub77c\\uba74 \\uad73\\uc774 \\uc2eb\\uc5b4\\ud558\\ub294 \\uc0ac\\ub78c \\uae30\\uc0ac\\uae4c\\uc9c0 \\ucc3e\\uc544\\uac00\\uc11c \\uc695 \\ud558\\uace0 \\uc2f6\\uc740 \\ub9c8\\uc74c \\uc548 \\ub4dc\\ub294\\ub370 \\uadf8\\ub0e5 \\uc0dd\\uac01\\uc5c6\\uc774 \\ub118\\uaca8\\ubc84\\ub9ac\\uc9c0\",\"tweet\",\"2017-12-02T16:26:14\",\"twitter\"',\n",
       " u'\"classicmusicn1\",\"11787678\",\"Dolce Duello Cecilia Bartoli and Sol Gabetta Save the Best for Last at the Barbican httpsgooglfbjXcgmg\\xa0\",\"tweet\",\"2017-12-02T16:26:41\",\"twitter\"',\n",
       " u'\"LA_DOLCE_VITA_B\",\"11787678\",\"\\uc77d\\uc73c\\uba74\\uc11c \\uc2dc\\uac04 \\uc18c\\ube44 \\ud560 \\uac00\\uce58\\uac00 \\uc5c6\\uc744 \\uac83 \\uac19\\uc74c\",\"tweet\",\"2017-12-02T16:26:57\",\"twitter\"',\n",
       " u'\"ajmanalo06\",\"11787678\",\"Pinapanood ko pa din hanggang ngayon yung dolce amore Puta ganda ni liza \",\"tweet\",\"2017-12-02T16:27:25\",\"twitter\"',\n",
       " u'\"blazar30\",\"11787678\",\"1\",\"retweet count\",\"2017-12-02T16:23:24\",\"twitter\"',\n",
       " u'\"anman30031\",\"11787678\",\"0\",\"retweet count\",\"2017-12-02T16:23:37\",\"twitter\"',\n",
       " u'\"Dolce_Innocent2\",\"11787678\",\"0\",\"retweet count\",\"2017-12-02T16:23:53\",\"twitter\"',\n",
       " u'\"AriAngioloni\",\"11787678\",\"0\",\"retweet count\",\"2017-12-02T16:24:05\",\"twitter\"',\n",
       " u'\"SmokeeRobinson\",\"11787678\",\"0\",\"retweet count\",\"2017-12-02T16:24:07\",\"twitter\"',\n",
       " u'\"StayFoodit\",\"11787678\",\"0\",\"retweet count\",\"2017-12-02T16:24:07\",\"twitter\"',\n",
       " u'\"DOLCE_COFFEE_\",\"11787678\",\"0\",\"retweet count\",\"2017-12-02T16:24:09\",\"twitter\"',\n",
       " u'\"davidedigirola1\",\"11787678\",\"1\",\"retweet count\",\"2017-12-02T16:24:32\",\"twitter\"',\n",
       " u'\"Dolce_Innocent2\",\"11787678\",\"0\",\"retweet count\",\"2017-12-02T16:24:46\",\"twitter\"',\n",
       " u'\"mizu_dolce\",\"11787678\",\"0\",\"retweet count\",\"2017-12-02T16:24:48\",\"twitter\"',\n",
       " u'\"Lilliflo\",\"11787678\",\"0\",\"retweet count\",\"2017-12-02T16:24:55\",\"twitter\"',\n",
       " u'\"AgosDolce9\",\"11787678\",\"0\",\"retweet count\",\"2017-12-02T16:25:01\",\"twitter\"',\n",
       " u'\"LtLoko\",\"11787678\",\"0\",\"retweet count\",\"2017-12-02T16:25:11\",\"twitter\"',\n",
       " u'\"R_ono_N\",\"11787678\",\"0\",\"retweet count\",\"2017-12-02T16:25:26\",\"twitter\"',\n",
       " u'\"mizu_dolce\",\"11787678\",\"0\",\"retweet count\",\"2017-12-02T16:26:00\",\"twitter\"',\n",
       " u'\"Trend_C5555\",\"11787678\",\"0\",\"retweet count\",\"2017-12-02T16:26:06\",\"twitter\"',\n",
       " u'\"LA_DOLCE_VITA_B\",\"11787678\",\"0\",\"retweet count\",\"2017-12-02T16:26:14\",\"twitter\"',\n",
       " u'\"classicmusicn1\",\"11787678\",\"0\",\"retweet count\",\"2017-12-02T16:26:41\",\"twitter\"',\n",
       " u'\"LA_DOLCE_VITA_B\",\"11787678\",\"0\",\"retweet count\",\"2017-12-02T16:26:57\",\"twitter\"',\n",
       " u'\"ajmanalo06\",\"11787678\",\"0\",\"retweet count\",\"2017-12-02T16:27:25\",\"twitter\"',\n",
       " u'\"blazar30\",\"11787678\",\"0\",\"reply count\",\"2017-12-02T16:23:24\",\"twitter\"',\n",
       " u'\"anman30031\",\"11787678\",\"0\",\"reply count\",\"2017-12-02T16:23:37\",\"twitter\"',\n",
       " u'\"Dolce_Innocent2\",\"11787678\",\"0\",\"reply count\",\"2017-12-02T16:23:53\",\"twitter\"',\n",
       " u'\"AriAngioloni\",\"11787678\",\"0\",\"reply count\",\"2017-12-02T16:24:05\",\"twitter\"',\n",
       " u'\"SmokeeRobinson\",\"11787678\",\"0\",\"reply count\",\"2017-12-02T16:24:07\",\"twitter\"',\n",
       " u'\"StayFoodit\",\"11787678\",\"0\",\"reply count\",\"2017-12-02T16:24:07\",\"twitter\"',\n",
       " u'\"DOLCE_COFFEE_\",\"11787678\",\"1\",\"reply count\",\"2017-12-02T16:24:09\",\"twitter\"',\n",
       " u'\"davidedigirola1\",\"11787678\",\"1\",\"reply count\",\"2017-12-02T16:24:32\",\"twitter\"',\n",
       " u'\"Dolce_Innocent2\",\"11787678\",\"0\",\"reply count\",\"2017-12-02T16:24:46\",\"twitter\"',\n",
       " u'\"mizu_dolce\",\"11787678\",\"0\",\"reply count\",\"2017-12-02T16:24:48\",\"twitter\"',\n",
       " u'\"Lilliflo\",\"11787678\",\"0\",\"reply count\",\"2017-12-02T16:24:55\",\"twitter\"',\n",
       " u'\"AgosDolce9\",\"11787678\",\"0\",\"reply count\",\"2017-12-02T16:25:01\",\"twitter\"',\n",
       " u'\"LtLoko\",\"11787678\",\"0\",\"reply count\",\"2017-12-02T16:25:11\",\"twitter\"',\n",
       " u'\"R_ono_N\",\"11787678\",\"0\",\"reply count\",\"2017-12-02T16:25:26\",\"twitter\"',\n",
       " u'\"mizu_dolce\",\"11787678\",\"0\",\"reply count\",\"2017-12-02T16:26:00\",\"twitter\"',\n",
       " u'\"Trend_C5555\",\"11787678\",\"0\",\"reply count\",\"2017-12-02T16:26:06\",\"twitter\"',\n",
       " u'\"LA_DOLCE_VITA_B\",\"11787678\",\"1\",\"reply count\",\"2017-12-02T16:26:14\",\"twitter\"',\n",
       " u'\"classicmusicn1\",\"11787678\",\"0\",\"reply count\",\"2017-12-02T16:26:41\",\"twitter\"',\n",
       " u'\"LA_DOLCE_VITA_B\",\"11787678\",\"0\",\"reply count\",\"2017-12-02T16:26:57\",\"twitter\"',\n",
       " u'\"ajmanalo06\",\"11787678\",\"0\",\"reply count\",\"2017-12-02T16:27:25\",\"twitter\"',\n",
       " u'\"blazar30\",\"11787678\",\"4\",\"like count\",\"2017-12-02T16:23:24\",\"twitter\"',\n",
       " u'\"anman30031\",\"11787678\",\"0\",\"like count\",\"2017-12-02T16:23:37\",\"twitter\"',\n",
       " u'\"Dolce_Innocent2\",\"11787678\",\"0\",\"like count\",\"2017-12-02T16:23:53\",\"twitter\"',\n",
       " u'\"AriAngioloni\",\"11787678\",\"0\",\"like count\",\"2017-12-02T16:24:05\",\"twitter\"',\n",
       " u'\"SmokeeRobinson\",\"11787678\",\"0\",\"like count\",\"2017-12-02T16:24:07\",\"twitter\"',\n",
       " u'\"StayFoodit\",\"11787678\",\"0\",\"like count\",\"2017-12-02T16:24:07\",\"twitter\"',\n",
       " u'\"DOLCE_COFFEE_\",\"11787678\",\"0\",\"like count\",\"2017-12-02T16:24:09\",\"twitter\"',\n",
       " u'\"davidedigirola1\",\"11787678\",\"1\",\"like count\",\"2017-12-02T16:24:32\",\"twitter\"',\n",
       " u'\"Dolce_Innocent2\",\"11787678\",\"0\",\"like count\",\"2017-12-02T16:24:46\",\"twitter\"',\n",
       " u'\"mizu_dolce\",\"11787678\",\"0\",\"like count\",\"2017-12-02T16:24:48\",\"twitter\"',\n",
       " u'\"Lilliflo\",\"11787678\",\"0\",\"like count\",\"2017-12-02T16:24:55\",\"twitter\"',\n",
       " u'\"AgosDolce9\",\"11787678\",\"0\",\"like count\",\"2017-12-02T16:25:01\",\"twitter\"',\n",
       " u'\"LtLoko\",\"11787678\",\"0\",\"like count\",\"2017-12-02T16:25:11\",\"twitter\"',\n",
       " u'\"R_ono_N\",\"11787678\",\"0\",\"like count\",\"2017-12-02T16:25:26\",\"twitter\"',\n",
       " u'\"mizu_dolce\",\"11787678\",\"0\",\"like count\",\"2017-12-02T16:26:00\",\"twitter\"',\n",
       " u'\"Trend_C5555\",\"11787678\",\"0\",\"like count\",\"2017-12-02T16:26:06\",\"twitter\"',\n",
       " u'\"LA_DOLCE_VITA_B\",\"11787678\",\"0\",\"like count\",\"2017-12-02T16:26:14\",\"twitter\"',\n",
       " u'\"classicmusicn1\",\"11787678\",\"0\",\"like count\",\"2017-12-02T16:26:41\",\"twitter\"',\n",
       " u'\"LA_DOLCE_VITA_B\",\"11787678\",\"0\",\"like count\",\"2017-12-02T16:26:57\",\"twitter\"',\n",
       " u'\"ajmanalo06\",\"11787678\",\"0\",\"like count\",\"2017-12-02T16:27:25\",\"twitter\"']"
      ]
     },
     "execution_count": 134,
     "metadata": {},
     "output_type": "execute_result"
    }
   ],
   "source": [
    "rdd=sc.textFile(\"dolce_processed.txt\")\n",
    "rdd.collect()"
   ]
  },
  {
   "cell_type": "code",
   "execution_count": 157,
   "metadata": {
    "collapsed": false
   },
   "outputs": [],
   "source": [
    "##TWITTER_PATH = sc.filename('miumiu_processed.txt')\n",
    "DATAFILE_PATTERN = re.compile(r'^\"(.*?)\",\"(.*?)\",\"(.*?)\",\"(.*?)\",\"(.*?)\",\"(.*?)\"$')\n",
    "from pyspark.sql import Row\n",
    "import datetime\n",
    "\n",
    "month_map = {'Jan': 1, 'Feb': 2, 'Mar':3, 'Apr':4, 'May':5, 'Jun':6, 'Jul':7,\n",
    "    'Aug':8,  'Sep': 9, 'Oct':10, 'Nov': 11, 'Dec': 12}\n",
    "\n",
    "def parse_apache_time(s):\n",
    "    \"\"\" Convert Apache time format into a Python datetime object\n",
    "    Args:\n",
    "        s (str): date and time in Apache time format\n",
    "    Returns:\n",
    "        datetime: datetime object (ignore timezone for now)\n",
    "    \"\"\"\n",
    "    return datetime.datetime(int(s[0:4]),\n",
    "                             int(s[5:7]),\n",
    "                             int(s[8:10]),\n",
    "                             int(s[11:13]),\n",
    "                             int(s[14:16]),\n",
    "                             int(s[17:19]))\n",
    "\n",
    "def parseApacheLogLine(logline):\n",
    "    \"\"\" Parse a line in the Apache Common Log format\n",
    "    Args:\n",
    "        logline (str): a line of text in the Apache Common Log format\n",
    "    Returns:\n",
    "        tuple: either a dictionary containing the parts of the Apache Access Log and 1,\n",
    "               or the original invalid log line and 0\n",
    "    \"\"\"\n",
    "    #match = re.search(DATAFILE_PATTERN, logline)\n",
    "    match = [s.replace(\"\\\"\", \"\") for s in logline.split(\",\")]\n",
    "    \n",
    "    return match\n",
    "    '''\n",
    "    return (Row(\n",
    "        UID          = match[0],\n",
    "        Item_ID  = match[1],\n",
    "        content       = match[2],\n",
    "        content_type = match[3],\n",
    "        date_time     = parse_apache_time(match[4]),\n",
    "        source        = match[5]\n",
    "    ), 1)\n",
    "'''\n",
    "DataRDD = (sc.textFile('miumiu_processed.txt').map(parseApacheLogLine).cache())\n",
    "\n",
    "\n",
    "TweetsRDD = DataRDD.filter(lambda (a,b,c,d,e,f): d=='tweet')\n",
    "RetweetCountsRDD = DataRDD.filter(lambda (a,b,c,d,e,f): d=='retweet_counts')\n",
    "ReplyCountsRDD = DataRDD.filter(lambda (a,b,c,d,e,f): d=='reply_counts')\n",
    "LikeCountsRDD = DataRDD.filter(lambda (a,b,c,d,e,f): d=='like_counts')"
   ]
  },
  {
   "cell_type": "code",
   "execution_count": 158,
   "metadata": {
    "collapsed": false
   },
   "outputs": [
    {
     "data": {
      "text/plain": [
       "[[u'tiffany_thornt',\n",
       "  u'12143286',\n",
       "  u'MIU MIU Shearling Fur Skin Hooded Coat  Leather Trim New wo Tags CamelSz 40  Full read by eBay Price 5130\\u2026 httpebayto1BYRKpn ',\n",
       "  u'tweet',\n",
       "  u'2014-11-22T20:45:10',\n",
       "  u'twitter'],\n",
       " [u'OnMySpaceship',\n",
       "  u'12143286',\n",
       "  u'httpifttt1YSBX2z  NWOT Stunning  classic Miu Miu cotton and mink fur trim coat size 40  perfecto',\n",
       "  u'tweet',\n",
       "  u'2016-04-26T22:33:12',\n",
       "  u'twitter'],\n",
       " [u'OnMySpaceship',\n",
       "  u'12143286',\n",
       "  u'httpifttt2byZsB6  NWOT Stunning  classic Miu Miu cotton and mink fur trim coat size 40  perfecto',\n",
       "  u'tweet',\n",
       "  u'2016-08-30T21:45:55',\n",
       "  u'twitter']]"
      ]
     },
     "execution_count": 158,
     "metadata": {},
     "output_type": "execute_result"
    }
   ],
   "source": [
    "\n",
    "TweetsRDD.take(3)"
   ]
  },
  {
   "cell_type": "code",
   "execution_count": 159,
   "metadata": {
    "collapsed": true
   },
   "outputs": [],
   "source": [
    "def removeQuotes(s):\n",
    "    \"\"\" Remove quotation marks from an input string\n",
    "    Args:\n",
    "        s (str): input string that might have the quote \"\" characters\n",
    "    Returns:\n",
    "        str: a string without the quote characters\n",
    "    \"\"\"\n",
    "    return ''.join(i for i in s if i!='\"')\n"
   ]
  },
  {
   "cell_type": "code",
   "execution_count": 160,
   "metadata": {
    "collapsed": true
   },
   "outputs": [],
   "source": [
    "split_regex = r'[a-zA-Z0-9_]+'\n",
    "\n",
    "def simpleTokenize(string):\n",
    "    \"\"\" A simple implementation of input string tokenization\n",
    "    Args:\n",
    "        string (str): input string\n",
    "    Returns:\n",
    "        list: a list of tokens\n",
    "    \"\"\"\n",
    "    string = re.sub(r'([^\\s\\w(?<_)])+', ' ',string.lower())\n",
    "    return re.findall(split_regex, string)\n",
    "\n",
    "def tokenize(string):\n",
    "    \"\"\" An implementation of input string tokenization that excludes stopwords\n",
    "    Args:\n",
    "        string (str): input string\n",
    "    Returns:\n",
    "        list: a list of tokens without stopwords\n",
    "    \"\"\"\n",
    "    \n",
    "    def remove_if_not_substring(l1, l2):\n",
    "        return [i for i in l1 if not any(j == i for j in list(l2))]\n",
    "    string = remove_if_not_substring(simpleTokenize(string), stopwords)\n",
    "    return string"
   ]
  },
  {
   "cell_type": "code",
   "execution_count": 161,
   "metadata": {
    "collapsed": false
   },
   "outputs": [],
   "source": [
    "baseDir = os.path.join('data')\n",
    "inputPath = os.path.join('cs100', 'lab3')\n",
    "STOPWORDS_PATH = 'stopwords.txt'\n",
    "stopfile = os.path.join(baseDir, inputPath, STOPWORDS_PATH)\n",
    "stopwords = set(sc.textFile(stopfile).collect())"
   ]
  },
  {
   "cell_type": "code",
   "execution_count": 162,
   "metadata": {
    "collapsed": false
   },
   "outputs": [],
   "source": [
    "TweetsTokenizedRDD = TweetsRDD.map(lambda (a,b,c,d,e,f): (a,b,tokenize(c),d,e,f))\n"
   ]
  },
  {
   "cell_type": "code",
   "execution_count": 163,
   "metadata": {
    "collapsed": true
   },
   "outputs": [],
   "source": [
    "def tf(tokens):\n",
    "    \"\"\" Compute TF\n",
    "    Args:\n",
    "        tokens (list of str): input list of tokens from tokenize\n",
    "    Returns:\n",
    "        dictionary: a dictionary of tokens to its TF values\n",
    "    \"\"\"\n",
    "    total_len = float(len(tokens))\n",
    "    dictionary = {}\n",
    "    for x in tokens:\n",
    "        if x in dictionary.keys():\n",
    "            dictionary[x] = dictionary[x]+1/total_len\n",
    "        else:\n",
    "            dictionary[x] = 1/total_len\n",
    "    return dictionary ##dict(zip(tokens,[float(len(x))/total_len for x in tokens]))"
   ]
  },
  {
   "cell_type": "code",
   "execution_count": 164,
   "metadata": {
    "collapsed": true
   },
   "outputs": [],
   "source": [
    "def idfs(corpus):\n",
    "    \"\"\" Compute IDF\n",
    "    Args:\n",
    "        corpus (RDD): input corpus\n",
    "    Returns:\n",
    "        RDD: a RDD of (token, IDF value)\n",
    "        \"\"\"\n",
    "    N = corpus.count()\n",
    "    uniqueTokens = corpus.map(lambda ut: list(set(ut[1])))\n",
    "    tokenCountPairTuple = uniqueTokens.flatMap(lambda strg: [(key, 1) for key in strg]).reduceByKey(lambda x, y: x + y)\n",
    "    tokenSumPairTuple = tokenCountPairTuple.map(lambda duple: (duple[0],   float(N) / duple[1]))\n",
    "    return (tokenSumPairTuple)"
   ]
  },
  {
   "cell_type": "code",
   "execution_count": 165,
   "metadata": {
    "collapsed": false
   },
   "outputs": [
    {
     "name": "stdout",
     "output_type": "stream",
     "text": [
      "[(u'tiffany_thornt', [u'miu', u'miu', u'shearling', u'fur', u'skin', u'hooded', u'coat', u'leather', u'trim', u'new', u'wo', u'tags', u'camelsz', u'40', u'full', u'read', u'ebay', u'price', u'5130', u'httpebayto1byrkpn']), (u'OnMySpaceship', [u'httpifttt1ysbx2z', u'nwot', u'stunning', u'classic', u'miu', u'miu', u'cotton', u'mink', u'fur', u'trim', u'coat', u'size', u'40', u'perfecto']), (u'OnMySpaceship', [u'httpifttt2byzsb6', u'nwot', u'stunning', u'classic', u'miu', u'miu', u'cotton', u'mink', u'fur', u'trim', u'coat', u'size', u'40', u'perfecto']), (u'OnMySpaceship', [u'httpifttt2dejmst', u'nwot', u'stunning', u'classic', u'miu', u'miu', u'cotton', u'mink', u'fur', u'trim', u'coat', u'size', u'40', u'perfecto']), (u'OnMySpaceship', [u'httpifttt2dog4vb', u'nwot', u'stunning', u'classic', u'miu', u'miu', u'cotton', u'mink', u'fur', u'trim', u'coat', u'size', u'40', u'perfecto'])]\n",
      "[(u'trim', 1.0), (u'mink', 1.25), (u'classic', 1.25), (u'skin', 5.0), (u'httpebayto1byrkpn', 5.0), (u'httpifttt2byzsb6', 5.0), (u'size', 1.25), (u'hooded', 5.0), (u'40', 1.0), (u'5130', 5.0), (u'wo', 5.0), (u'httpifttt1ysbx2z', 5.0), (u'nwot', 1.25), (u'new', 5.0), (u'cotton', 1.25), (u'miu', 1.0), (u'full', 5.0), (u'tags', 5.0), (u'read', 5.0), (u'price', 5.0), (u'shearling', 5.0), (u'httpifttt2dejmst', 5.0), (u'camelsz', 5.0), (u'fur', 1.0), (u'leather', 5.0), (u'coat', 1.0), (u'perfecto', 1.25), (u'ebay', 5.0), (u'stunning', 1.25), (u'httpifttt2dog4vb', 5.0)]\n"
     ]
    }
   ],
   "source": [
    "TweetsRecTok = TweetsTokenizedRDD.map(lambda (a,b,c,d,e,f):(a,c))\n",
    "print TweetsRecTok.take(100)\n",
    "##TweetsRecTok.map(lambda x: set)\n",
    "idf = idfs(TweetsRecTok)\n",
    "print idf.collect()"
   ]
  },
  {
   "cell_type": "code",
   "execution_count": 166,
   "metadata": {
    "collapsed": false
   },
   "outputs": [
    {
     "data": {
      "text/plain": [
       "30"
      ]
     },
     "execution_count": 166,
     "metadata": {},
     "output_type": "execute_result"
    }
   ],
   "source": [
    "idf.count()"
   ]
  },
  {
   "cell_type": "code",
   "execution_count": 167,
   "metadata": {
    "collapsed": true
   },
   "outputs": [],
   "source": [
    "def tfidf(tokens, idfs):\n",
    "    \"\"\" Compute TF-IDF\n",
    "    Args:\n",
    "        tokens (list of str): input list of tokens from tokenize\n",
    "        idfs (dictionary): record to IDF value\n",
    "    Returns:\n",
    "        dictionary: a dictionary of records to TF-IDF values\n",
    "    \"\"\"\n",
    "    tfs = tf(tokens)\n",
    "    tfIdfDict = {}\n",
    "    for i in tokens:\n",
    "        tfIdfDict[i]=tfs[i]*idfs[i]\n",
    "    return tfIdfDict\n",
    "\n"
   ]
  },
  {
   "cell_type": "code",
   "execution_count": 168,
   "metadata": {
    "collapsed": true
   },
   "outputs": [],
   "source": [
    "import math\n",
    "\n",
    "def dotprod(a, b):\n",
    "    \n",
    "    return sum([a[i]*b[i] for i in a.keys() if any(j == i for j in b.keys())])\n",
    "\n",
    "def norm(a):\n",
    "    \n",
    "    return math.sqrt(dotprod(a,a))\n",
    "\n",
    "def cossim(a, b):\n",
    "\n",
    "    return dotprod(a,b)/(norm(a)*norm(b))"
   ]
  },
  {
   "cell_type": "code",
   "execution_count": 169,
   "metadata": {
    "collapsed": true
   },
   "outputs": [],
   "source": [
    "def cosineSimilarity(string1, string2, idfsDictionary):\n",
    "\n",
    "    w1 = tfidf(tokenize(string1), idfsDictionary)\n",
    "    w2 = tfidf(tokenize(string2), idfsDictionary)\n",
    "    return cossim(w1, w2)"
   ]
  },
  {
   "cell_type": "code",
   "execution_count": 170,
   "metadata": {
    "collapsed": false
   },
   "outputs": [],
   "source": [
    "def computeSimilarity(record):\n",
    "    \"\"\" Compute similarity on a combination record\n",
    "    Args:\n",
    "        record: a pair, (google record, amazon record)\n",
    "    Returns:\n",
    "        pair: a pair, (google URL, amazon ID, cosine similarity value)\n",
    "    \"\"\"\n",
    "    googleRec = record[0]\n",
    "    amazonRec = record[1]\n",
    "    googleURL = googleRec[0]\n",
    "    amazonID = amazonRec[0]\n",
    "    googleValue = googleRec[1]\n",
    "    amazonValue = amazonRec[1]\n",
    "    cs = cosineSimilarity(googleValue,amazonValue, idfsSmallWeights)\n",
    "    return (googleURL, amazonID, cs)\n",
    "\n",
    "\n",
    "\n",
    "def similar(amazonID, googleURL):\n",
    "    \"\"\" Return similarity value\n",
    "    Args:\n",
    "        amazonID: amazon ID\n",
    "        googleURL: google URL\n",
    "    Returns:\n",
    "        similar: cosine similarity value\n",
    "    \"\"\"\n",
    "    return (similarities\n",
    "            .filter(lambda record: (record[0] == googleURL and record[1] == amazonID))\n",
    "            .collect()[0][2])\n",
    "\n",
    "from pyspark import Broadcast\n"
   ]
  },
  {
   "cell_type": "code",
   "execution_count": 171,
   "metadata": {
    "collapsed": true
   },
   "outputs": [],
   "source": [
    "def computeSimilarityBroadcast(record):\n",
    "    \"\"\" Compute similarity on a combination record, using Broadcast variable\n",
    "    Args:\n",
    "        record: a pair, (google record, amazon record)\n",
    "    Returns:\n",
    "        pair: a pair, (google URL, amazon ID, cosine similarity value)\n",
    "    \"\"\"\n",
    "    googleRec = record[0]\n",
    "    amazonRec = record[1]\n",
    "    googleURL = googleRec[0]\n",
    "    amazonID = amazonRec[0]\n",
    "    googleValue = googleRec[1]\n",
    "    amazonValue = amazonRec[1]\n",
    "    cs = cosineSimilarity(googleValue,amazonValue, idfsSmallBroadcast.value)\n",
    "    return (googleURL, amazonID, cs)\n",
    "\n",
    "def similarBroadcast(amazonID, googleURL):\n",
    "    \"\"\" Return similarity value, computed using Broadcast variable\n",
    "    Args:\n",
    "        amazonID: amazon ID\n",
    "        googleURL: google URL\n",
    "    Returns:\n",
    "        similar: cosine similarity value\n",
    "    \"\"\"\n",
    "    return (similaritiesBroadcast\n",
    "            .filter(lambda record: (record[0] == googleURL and record[1] == amazonID))\n",
    "            .collect()[0][2])"
   ]
  },
  {
   "cell_type": "code",
   "execution_count": 172,
   "metadata": {
    "collapsed": false
   },
   "outputs": [
    {
     "name": "stdout",
     "output_type": "stream",
     "text": [
      "{u'trim': 1.0, u'mink': 1.25, u'classic': 1.25, u'skin': 5.0, u'httpebayto1byrkpn': 5.0, u'httpifttt2byzsb6': 5.0, u'cotton': 1.25, u'hooded': 5.0, u'size': 1.25, u'40': 1.0, u'read': 5.0, u'httpifttt1ysbx2z': 5.0, u'nwot': 1.25, u'new': 5.0, u'5130': 5.0, u'miu': 1.0, u'full': 5.0, u'tags': 5.0, u'wo': 5.0, u'price': 5.0, u'shearling': 5.0, u'httpifttt2dejmst': 5.0, u'camelsz': 5.0, u'fur': 1.0, u'leather': 5.0, u'coat': 1.0, u'perfecto': 1.25, u'ebay': 5.0, u'stunning': 1.25, u'httpifttt2dog4vb': 5.0}\n",
      "[(u'tiffany_thornt', [u'miu', u'miu', u'shearling', u'fur', u'skin', u'hooded', u'coat', u'leather', u'trim', u'new', u'wo', u'tags', u'camelsz', u'40', u'full', u'read', u'ebay', u'price', u'5130', u'httpebayto1byrkpn']), (u'OnMySpaceship', [u'httpifttt1ysbx2z', u'nwot', u'stunning', u'classic', u'miu', u'miu', u'cotton', u'mink', u'fur', u'trim', u'coat', u'size', u'40', u'perfecto']), (u'OnMySpaceship', [u'httpifttt2byzsb6', u'nwot', u'stunning', u'classic', u'miu', u'miu', u'cotton', u'mink', u'fur', u'trim', u'coat', u'size', u'40', u'perfecto'])]\n"
     ]
    }
   ],
   "source": [
    "fullCorpusRDD = TweetsRecTok\n",
    "idfsFull = idfs(fullCorpusRDD)\n",
    "idfsFullWeights = idfsFull.collectAsMap()\n",
    "print idfsFullWeights\n",
    "idfsFullBroadcast = sc.broadcast(idfsFullWeights)\n",
    "print TweetsRecTok.take(3)\n",
    "TweetWeightRDD = TweetsRecTok.map(lambda (a,b):(a,tfidf(b, idfsFullWeights)))"
   ]
  },
  {
   "cell_type": "code",
   "execution_count": 173,
   "metadata": {
    "collapsed": false
   },
   "outputs": [
    {
     "data": {
      "text/plain": [
       "[(u'tiffany_thornt',\n",
       "  {u'40': 0.05,\n",
       "   u'5130': 0.25,\n",
       "   u'camelsz': 0.25,\n",
       "   u'coat': 0.05,\n",
       "   u'ebay': 0.25,\n",
       "   u'full': 0.25,\n",
       "   u'fur': 0.05,\n",
       "   u'hooded': 0.25,\n",
       "   u'httpebayto1byrkpn': 0.25,\n",
       "   u'leather': 0.25,\n",
       "   u'miu': 0.1,\n",
       "   u'new': 0.25,\n",
       "   u'price': 0.25,\n",
       "   u'read': 0.25,\n",
       "   u'shearling': 0.25,\n",
       "   u'skin': 0.25,\n",
       "   u'tags': 0.25,\n",
       "   u'trim': 0.05,\n",
       "   u'wo': 0.25}),\n",
       " (u'OnMySpaceship',\n",
       "  {u'40': 0.07142857142857142,\n",
       "   u'classic': 0.08928571428571427,\n",
       "   u'coat': 0.07142857142857142,\n",
       "   u'cotton': 0.08928571428571427,\n",
       "   u'fur': 0.07142857142857142,\n",
       "   u'httpifttt1ysbx2z': 0.3571428571428571,\n",
       "   u'mink': 0.08928571428571427,\n",
       "   u'miu': 0.14285714285714285,\n",
       "   u'nwot': 0.08928571428571427,\n",
       "   u'perfecto': 0.08928571428571427,\n",
       "   u'size': 0.08928571428571427,\n",
       "   u'stunning': 0.08928571428571427,\n",
       "   u'trim': 0.07142857142857142}),\n",
       " (u'OnMySpaceship',\n",
       "  {u'40': 0.07142857142857142,\n",
       "   u'classic': 0.08928571428571427,\n",
       "   u'coat': 0.07142857142857142,\n",
       "   u'cotton': 0.08928571428571427,\n",
       "   u'fur': 0.07142857142857142,\n",
       "   u'httpifttt2byzsb6': 0.3571428571428571,\n",
       "   u'mink': 0.08928571428571427,\n",
       "   u'miu': 0.14285714285714285,\n",
       "   u'nwot': 0.08928571428571427,\n",
       "   u'perfecto': 0.08928571428571427,\n",
       "   u'size': 0.08928571428571427,\n",
       "   u'stunning': 0.08928571428571427,\n",
       "   u'trim': 0.07142857142857142})]"
      ]
     },
     "execution_count": 173,
     "metadata": {},
     "output_type": "execute_result"
    }
   ],
   "source": [
    "TweetWeightRDD.take(3)"
   ]
  },
  {
   "cell_type": "code",
   "execution_count": null,
   "metadata": {
    "collapsed": true
   },
   "outputs": [],
   "source": []
  },
  {
   "cell_type": "code",
   "execution_count": null,
   "metadata": {
    "collapsed": true
   },
   "outputs": [],
   "source": []
  }
 ],
 "metadata": {
  "kernelspec": {
   "display_name": "Python 2",
   "language": "python",
   "name": "python2"
  },
  "language_info": {
   "codemirror_mode": {
    "name": "ipython",
    "version": 2
   },
   "file_extension": ".py",
   "mimetype": "text/x-python",
   "name": "python",
   "nbconvert_exporter": "python",
   "pygments_lexer": "ipython2",
   "version": "2.7.6"
  }
 },
 "nbformat": 4,
 "nbformat_minor": 0
}
